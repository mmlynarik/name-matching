{
 "cells": [
  {
   "cell_type": "markdown",
   "id": "approximate-canyon",
   "metadata": {},
   "source": [
    "# Accurity GDPR Data Classification"
   ]
  },
  {
   "cell_type": "code",
   "execution_count": 1,
   "id": "lesbian-slope",
   "metadata": {
    "tags": []
   },
   "outputs": [],
   "source": [
    "import os\n",
    "\n",
    "import pandas as pd\n",
    "import numpy as np\n",
    "import sqlalchemy as sql\n",
    "import requests\n",
    "import textdistance as td\n",
    "from IPython import get_ipython\n",
    "from IPython.display import display, Image\n",
    "\n",
    "import accurity.nbconfig\n",
    "from accurity.tfidfmapping import TfidfDistanceMapping\n",
    "from accurity.textmapping import TextDistanceMapping\n",
    "\n",
    "%reload_ext autoreload\n",
    "%autoreload 2\n",
    "%matplotlib inline"
   ]
  },
  {
   "cell_type": "markdown",
   "id": "median-factor",
   "metadata": {},
   "source": [
    "## 1. Groupe Société Générale (BRD)"
   ]
  },
  {
   "cell_type": "markdown",
   "id": "convenient-refund",
   "metadata": {},
   "source": [
    "### 1.1 Text-Distance Mapping Algorithms"
   ]
  },
  {
   "cell_type": "markdown",
   "id": "seasonal-heaven",
   "metadata": {},
   "source": [
    "#### 1.1.1 Load data for BRD object (`ncandidates=5`)"
   ]
  },
  {
   "cell_type": "markdown",
   "id": "other-lawrence",
   "metadata": {},
   "source": [
    "Initialise new or load from binary file stored `BusinessTermsMapping` object for BRD dataset."
   ]
  },
  {
   "cell_type": "code",
   "execution_count": 6,
   "id": "textile-upgrade",
   "metadata": {},
   "outputs": [
    {
     "data": {
      "text/plain": [
       "TextDistanceMappings(name=BRD, validation=True, model_file=../models/text_mapping_brd.bin, raw_data_dir=../data/raw/BRD, output_data_dir=../data/output/, ncandidates=5)"
      ]
     },
     "execution_count": 6,
     "metadata": {},
     "output_type": "execute_result"
    }
   ],
   "source": [
    "brd = TextDistanceMapping(name='BRD', raw_data_dir='../data/raw/BRD', validation=True)\n",
    "brd"
   ]
  },
  {
   "cell_type": "markdown",
   "id": "vulnerable-collectible",
   "metadata": {},
   "source": [
    "Refresh loading input data for running the mapping algorithm from files `data_fields.csv`, `business_terms.csv`, as well as validation data for validating identifed mappings from file `data_mappings.csv`."
   ]
  },
  {
   "cell_type": "code",
   "execution_count": 7,
   "id": "breathing-drive",
   "metadata": {},
   "outputs": [],
   "source": [
    "brd.load_raw_data()"
   ]
  },
  {
   "cell_type": "markdown",
   "id": "exciting-canal",
   "metadata": {},
   "source": [
    "#### 1.1.2 Extract personal data into xls file"
   ]
  },
  {
   "cell_type": "code",
   "execution_count": 9,
   "id": "thorough-penalty",
   "metadata": {},
   "outputs": [],
   "source": [
    "fields = ['ADDRESS', 'NAME', 'EMAIL', 'BIRTH', 'PHONE', 'SURNAME', 'SALARY']\n",
    "brd.raw.data_fields[brd.raw.data_fields.data_field.str.contains('|'.join(fields))].to_excel('../data/interim/data_fields_gdpr.xlsx', index=False)"
   ]
  }
 ],
 "metadata": {
  "kernelspec": {
   "display_name": "Python 3",
   "language": "python",
   "name": "python3"
  },
  "language_info": {
   "codemirror_mode": {
    "name": "ipython",
    "version": 3
   },
   "file_extension": ".py",
   "mimetype": "text/x-python",
   "name": "python",
   "nbconvert_exporter": "python",
   "pygments_lexer": "ipython3",
   "version": "3.8.5"
  }
 },
 "nbformat": 4,
 "nbformat_minor": 5
}
