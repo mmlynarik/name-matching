{
 "cells": [
  {
   "cell_type": "code",
   "execution_count": 1,
   "id": "brutal-lingerie",
   "metadata": {},
   "outputs": [],
   "source": [
    "import sklearn.datasets\n",
    "import pandas as pd\n",
    "import os\n",
    "import numpy as np\n",
    "import nb_black\n",
    "import statsmodels.api as sm\n",
    "import textdistance\n",
    "import matplotlib.pyplot as plt\n",
    "import catboost as cb\n",
    "import asyncio\n",
    "\n",
    "%reload_ext lab_black"
   ]
  },
  {
   "cell_type": "code",
   "execution_count": 3,
   "id": "domestic-coast",
   "metadata": {},
   "outputs": [
    {
     "data": {
      "text/html": [
       "<div>\n",
       "<style scoped>\n",
       "    .dataframe tbody tr th:only-of-type {\n",
       "        vertical-align: middle;\n",
       "    }\n",
       "\n",
       "    .dataframe tbody tr th {\n",
       "        vertical-align: top;\n",
       "    }\n",
       "\n",
       "    .dataframe thead th {\n",
       "        text-align: right;\n",
       "    }\n",
       "</style>\n",
       "<table border=\"1\" class=\"dataframe\">\n",
       "  <thead>\n",
       "    <tr style=\"text-align: right;\">\n",
       "      <th></th>\n",
       "      <th>alcohol</th>\n",
       "      <th>malic_acid</th>\n",
       "      <th>ash</th>\n",
       "      <th>alcalinity_of_ash</th>\n",
       "      <th>magnesium</th>\n",
       "      <th>total_phenols</th>\n",
       "      <th>flavanoids</th>\n",
       "      <th>nonflavanoid_phenols</th>\n",
       "      <th>proanthocyanins</th>\n",
       "      <th>color_intensity</th>\n",
       "      <th>hue</th>\n",
       "      <th>od280/od315_of_diluted_wines</th>\n",
       "      <th>proline</th>\n",
       "    </tr>\n",
       "  </thead>\n",
       "  <tbody>\n",
       "    <tr>\n",
       "      <th>0</th>\n",
       "      <td>14.23</td>\n",
       "      <td>1.71</td>\n",
       "      <td>2.43</td>\n",
       "      <td>15.6</td>\n",
       "      <td>127.0</td>\n",
       "      <td>2.80</td>\n",
       "      <td>3.06</td>\n",
       "      <td>0.28</td>\n",
       "      <td>2.29</td>\n",
       "      <td>5.64</td>\n",
       "      <td>1.04</td>\n",
       "      <td>3.92</td>\n",
       "      <td>1065.0</td>\n",
       "    </tr>\n",
       "    <tr>\n",
       "      <th>1</th>\n",
       "      <td>13.20</td>\n",
       "      <td>1.78</td>\n",
       "      <td>2.14</td>\n",
       "      <td>11.2</td>\n",
       "      <td>100.0</td>\n",
       "      <td>2.65</td>\n",
       "      <td>2.76</td>\n",
       "      <td>0.26</td>\n",
       "      <td>1.28</td>\n",
       "      <td>4.38</td>\n",
       "      <td>1.05</td>\n",
       "      <td>3.40</td>\n",
       "      <td>1050.0</td>\n",
       "    </tr>\n",
       "    <tr>\n",
       "      <th>2</th>\n",
       "      <td>13.16</td>\n",
       "      <td>2.36</td>\n",
       "      <td>2.67</td>\n",
       "      <td>18.6</td>\n",
       "      <td>101.0</td>\n",
       "      <td>2.80</td>\n",
       "      <td>3.24</td>\n",
       "      <td>0.30</td>\n",
       "      <td>2.81</td>\n",
       "      <td>5.68</td>\n",
       "      <td>1.03</td>\n",
       "      <td>3.17</td>\n",
       "      <td>1185.0</td>\n",
       "    </tr>\n",
       "    <tr>\n",
       "      <th>3</th>\n",
       "      <td>14.37</td>\n",
       "      <td>1.95</td>\n",
       "      <td>2.50</td>\n",
       "      <td>16.8</td>\n",
       "      <td>113.0</td>\n",
       "      <td>3.85</td>\n",
       "      <td>3.49</td>\n",
       "      <td>0.24</td>\n",
       "      <td>2.18</td>\n",
       "      <td>7.80</td>\n",
       "      <td>0.86</td>\n",
       "      <td>3.45</td>\n",
       "      <td>1480.0</td>\n",
       "    </tr>\n",
       "    <tr>\n",
       "      <th>4</th>\n",
       "      <td>13.24</td>\n",
       "      <td>2.59</td>\n",
       "      <td>2.87</td>\n",
       "      <td>21.0</td>\n",
       "      <td>118.0</td>\n",
       "      <td>2.80</td>\n",
       "      <td>2.69</td>\n",
       "      <td>0.39</td>\n",
       "      <td>1.82</td>\n",
       "      <td>4.32</td>\n",
       "      <td>1.04</td>\n",
       "      <td>2.93</td>\n",
       "      <td>735.0</td>\n",
       "    </tr>\n",
       "  </tbody>\n",
       "</table>\n",
       "</div>"
      ],
      "text/plain": [
       "   alcohol  malic_acid   ash  alcalinity_of_ash  magnesium  total_phenols  \\\n",
       "0    14.23        1.71  2.43               15.6      127.0           2.80   \n",
       "1    13.20        1.78  2.14               11.2      100.0           2.65   \n",
       "2    13.16        2.36  2.67               18.6      101.0           2.80   \n",
       "3    14.37        1.95  2.50               16.8      113.0           3.85   \n",
       "4    13.24        2.59  2.87               21.0      118.0           2.80   \n",
       "\n",
       "   flavanoids  nonflavanoid_phenols  proanthocyanins  color_intensity   hue  \\\n",
       "0        3.06                  0.28             2.29             5.64  1.04   \n",
       "1        2.76                  0.26             1.28             4.38  1.05   \n",
       "2        3.24                  0.30             2.81             5.68  1.03   \n",
       "3        3.49                  0.24             2.18             7.80  0.86   \n",
       "4        2.69                  0.39             1.82             4.32  1.04   \n",
       "\n",
       "   od280/od315_of_diluted_wines  proline  \n",
       "0                          3.92   1065.0  \n",
       "1                          3.40   1050.0  \n",
       "2                          3.17   1185.0  \n",
       "3                          3.45   1480.0  \n",
       "4                          2.93    735.0  "
      ]
     },
     "execution_count": 3,
     "metadata": {},
     "output_type": "execute_result"
    }
   ],
   "source": [
    "data = sklearn.datasets.load_wine()\n",
    "wine = pd.DataFrame(data.data, columns=data.feature_names)\n",
    "wine.head()"
   ]
  },
  {
   "cell_type": "code",
   "execution_count": 4,
   "id": "unauthorized-killer",
   "metadata": {},
   "outputs": [
    {
     "data": {
      "text/html": [
       "<div>\n",
       "<style scoped>\n",
       "    .dataframe tbody tr th:only-of-type {\n",
       "        vertical-align: middle;\n",
       "    }\n",
       "\n",
       "    .dataframe tbody tr th {\n",
       "        vertical-align: top;\n",
       "    }\n",
       "\n",
       "    .dataframe thead th {\n",
       "        text-align: right;\n",
       "    }\n",
       "</style>\n",
       "<table border=\"1\" class=\"dataframe\">\n",
       "  <thead>\n",
       "    <tr style=\"text-align: right;\">\n",
       "      <th></th>\n",
       "      <th>alcohol</th>\n",
       "      <th>ci</th>\n",
       "      <th>hue</th>\n",
       "    </tr>\n",
       "  </thead>\n",
       "  <tbody>\n",
       "    <tr>\n",
       "      <th>0</th>\n",
       "      <td>14.38</td>\n",
       "      <td>7.5</td>\n",
       "      <td>1.20</td>\n",
       "    </tr>\n",
       "    <tr>\n",
       "      <th>1</th>\n",
       "      <td>14.19</td>\n",
       "      <td>8.7</td>\n",
       "      <td>1.23</td>\n",
       "    </tr>\n",
       "  </tbody>\n",
       "</table>\n",
       "</div>"
      ],
      "text/plain": [
       "   alcohol   ci   hue\n",
       "0    14.38  7.5  1.20\n",
       "1    14.19  8.7  1.23"
      ]
     },
     "execution_count": 4,
     "metadata": {},
     "output_type": "execute_result"
    }
   ],
   "source": [
    "(\n",
    "    wine.rename(columns={\"color_intensity\": \"ci\"})\n",
    "    .assign(color_filter=lambda x: np.where((x.hue > 1) & (x.ci > 7), 1, 0))\n",
    "    .query(\"alcohol > 14 and color_filter == 1\")\n",
    "    .sort_values(\"alcohol\", ascending=False)\n",
    "    .reset_index(drop=True)\n",
    "    .loc[:, [\"alcohol\", \"ci\", \"hue\"]]\n",
    ")"
   ]
  },
  {
   "cell_type": "code",
   "execution_count": 5,
   "id": "developmental-ecology",
   "metadata": {},
   "outputs": [],
   "source": [
    "def csnap(df, func=lambda x: x.shape, msg=None):\n",
    "    \"\"\"\n",
    "    Custom function to print things in method chaining. Returns the df to further use in chaining.\n",
    "    \"\"\"\n",
    "    if msg:\n",
    "        print(msg)\n",
    "    display(func(df))\n",
    "    return df"
   ]
  },
  {
   "cell_type": "code",
   "execution_count": null,
   "id": "neither-savage",
   "metadata": {},
   "outputs": [],
   "source": [
    "dfaaa = (\n",
    "    wine.pipe(csnap)\n",
    "    .rename(columns={\"color_intensity\": \"ci\"})\n",
    "    .assign(color_filter=lambda x: np.where((x.hue > 1) & (x.ci > 7), 1, 0))\n",
    ")"
   ]
  },
  {
   "cell_type": "code",
   "execution_count": null,
   "id": "departmental-navigator",
   "metadata": {},
   "outputs": [],
   "source": [
    "output = (\n",
    "    wine.groupby([\"alcohol\", \"malic_acid\"], as_index=False)\n",
    "    .agg({\"color_intensity\": \"mean\"})\n",
    "    .reset_index()\n",
    ")"
   ]
  },
  {
   "cell_type": "code",
   "execution_count": null,
   "id": "persistent-thursday",
   "metadata": {},
   "outputs": [],
   "source": [
    "output = wine.groupby([\"alcohol\", \"malic_acid\"], as_index=False).agg(\n",
    "    {\"color_intensity\": \"mean\"}\n",
    ")"
   ]
  },
  {
   "cell_type": "code",
   "execution_count": null,
   "id": "going-opportunity",
   "metadata": {},
   "outputs": [],
   "source": [
    "def steps_to(stair):\n",
    "    if stair == 1:\n",
    "        return 1\n",
    "    elif stair == 2:\n",
    "        return 2\n",
    "    elif stair == 3:\n",
    "        return 4\n",
    "    else:\n",
    "        return steps_to(stair - 3) + steps_to(stair - 2) + steps_to(stair - 1)\n",
    "\n",
    "\n",
    "print(steps_to(5))"
   ]
  },
  {
   "cell_type": "code",
   "execution_count": 12,
   "id": "operating-karaoke",
   "metadata": {},
   "outputs": [
    {
     "data": {
      "text/plain": [
       "[]"
      ]
     },
     "execution_count": 12,
     "metadata": {},
     "output_type": "execute_result"
    }
   ],
   "source": [
    "array = [11, 10, 2]\n",
    "targetSum = 22\n",
    "\n",
    "\n",
    "def twoNumberSum(array, targetSum):\n",
    "    nums = {}\n",
    "    for num in array:\n",
    "        pot = targetSum - num\n",
    "        if pot in nums:\n",
    "            return [pot, num]\n",
    "        else:\n",
    "            nums[num] = True\n",
    "    return []\n",
    "\n",
    "\n",
    "twoNumberSum(array, targetSum)"
   ]
  },
  {
   "cell_type": "code",
   "execution_count": null,
   "id": "blocked-harbor",
   "metadata": {},
   "outputs": [],
   "source": [
    "class Protective(object):\n",
    "    \"\"\"\n",
    "    aaa\n",
    "    \"\"\"\n",
    "\n",
    "    def __init__(self, start_protected_value=0):\n",
    "        self.protected_value = start_protected_value\n",
    "\n",
    "    @property\n",
    "    def protected_value(self):\n",
    "        return self._protected_value\n",
    "\n",
    "    @protected_value.setter\n",
    "    def protected_value(self, value):\n",
    "        if value != int(value):\n",
    "            raise TypeError(\"protected_value must be an integer\")\n",
    "        if 0 <= value <= 100:\n",
    "            self._protected_value = int(value)\n",
    "        else:\n",
    "            raise ValueError(\"protected_value must be \" + \"between 0 and 100 inclusive\")\n",
    "\n",
    "    @protected_value.deleter\n",
    "    def protected_value(self):\n",
    "        raise AttributeError(\"do not delete, protected_value can be set to 0\")"
   ]
  },
  {
   "cell_type": "code",
   "execution_count": null,
   "id": "growing-values",
   "metadata": {},
   "outputs": [],
   "source": [
    "textdistance.hamming(\"test\", [\"test\", \"ss\"])"
   ]
  },
  {
   "cell_type": "code",
   "execution_count": 106,
   "id": "athletic-baptist",
   "metadata": {},
   "outputs": [
    {
     "data": {
      "text/plain": [
       "[[('a', 'a'),\n",
       "  ('a', 'a'),\n",
       "  ('a', 'a'),\n",
       "  ('a', ' '),\n",
       "  (' ', 'b'),\n",
       "  ('b', 'b'),\n",
       "  ('b', 'b')],\n",
       " [('b', 'b'), ('b', 'b'), ('b', ' '), (' ', 'c'), ('c', 'c'), ('c', 'c')]]"
      ]
     },
     "execution_count": 106,
     "metadata": {},
     "output_type": "execute_result"
    }
   ],
   "source": [
    "def _get_sequences(qval, *sequences):\n",
    "    \"\"\"Prepare sequences.\n",
    "    qval=None: split text by words\n",
    "    qval=1: do not split sequences. For text this is mean comparing by letters.\n",
    "    qval>1: split sequences by q-grams\n",
    "    \"\"\"\n",
    "    # by words\n",
    "    if not qval:\n",
    "        return [s.split() for s in sequences]\n",
    "    # by chars\n",
    "    if qval == 1:\n",
    "        return sequences\n",
    "    # by n-grams\n",
    "    return [find_ngrams(s, qval) for s in sequences]\n",
    "\n",
    "\n",
    "def find_ngrams(input_list, n):\n",
    "    return list(zip(*[input_list[i:] for i in range(n)]))\n",
    "\n",
    "\n",
    "sequences = [\"aaaa bbb\", \"bbb ccc\"]\n",
    "_get_sequences(2, *sequences)"
   ]
  },
  {
   "cell_type": "code",
   "execution_count": 43,
   "id": "suited-tiffany",
   "metadata": {},
   "outputs": [
    {
     "data": {
      "text/plain": [
       "('aab',)"
      ]
     },
     "execution_count": 43,
     "metadata": {},
     "output_type": "execute_result"
    }
   ],
   "source": [
    "from collections import Counter\n",
    "\n",
    "def _get_sequences(self, *sequences):\n",
    "        \"\"\"Prepare sequences.\n",
    "        qval=None: split text by words\n",
    "        qval=1: do not split sequences. For text this is mean comparing by letters.\n",
    "        qval>1: split sequences by q-grams\n",
    "        \"\"\"\n",
    "        # by words\n",
    "        if not 1:\n",
    "            return [s.split() for s in sequences]\n",
    "        # by chars\n",
    "        if 1 == 1:\n",
    "            return sequences\n",
    "        # by n-grams\n",
    "        return [find_ngrams(s, 1) for s in sequences]\n",
    "\n",
    "def _intersect_counters(self, *sequences):\n",
    "        intersection = sequences[0].copy()\n",
    "        for s in sequences[1:]:\n",
    "            intersection &= s\n",
    "        return intersection\n",
    "    \n",
    "    \n",
    "def _get_counters(self, *sequences):\n",
    "        \"\"\"Prepare sequences and convert it to Counters.\n",
    "        \"\"\"\n",
    "        # already Counters\n",
    "        if all(isinstance(s, Counter) for s in sequences):\n",
    "            return sequences\n",
    "        return [Counter(s) for s in _get_sequences(*sequences)]\n",
    "    \n",
    "_get_sequences('adddaa', 'aab')"
   ]
  },
  {
   "cell_type": "code",
   "execution_count": 89,
   "id": "challenging-archive",
   "metadata": {},
   "outputs": [
    {
     "name": "stdout",
     "output_type": "stream",
     "text": [
      "[' a', ' d', ' f', ' i', ' o', ' s', ' t', '. ', '? ', 'an', 'co', 'cu', 'd ', 'do', 'e ', 'e.', 'ec', 'en', 'fi', 'he', 'hi', 'ir', 'is', 'me', 'nd', 'ne', 'nt', 'oc', 'on', 'rd', 'rs', 's ', 'se', 'st', 't ', 't.', 't?', 'th', 'um']\n"
     ]
    }
   ],
   "source": [
    "from sklearn.feature_extraction.text import TfidfVectorizer, CountVectorizer\n",
    "corpus = [\n",
    "    'This is the first document.',\n",
    "    'This document is the second document.',\n",
    "    'And this is the third one.',\n",
    "    'Is this the first document?',\n",
    "]\n",
    "vectorizer = TfidfVectorizer(analyzer='char_wb', ngram_range=(2,2))\n",
    "X = vectorizer.fit_transform(corpus)\n",
    "print(vectorizer.get_feature_names())\n"
   ]
  },
  {
   "cell_type": "code",
   "execution_count": 115,
   "id": "thick-consequence",
   "metadata": {},
   "outputs": [
    {
     "name": "stdout",
     "output_type": "stream",
     "text": [
      "[[0 0 1 0 1 1 1 1 0 0 0 0 1 1 0 0 0 0 1 0 1 0]\n",
      " [0 0 2 1 0 0 1 1 0 0 1 1 1 0 1 0 0 0 1 1 0 0]\n",
      " [1 1 0 0 0 0 1 1 0 1 0 0 1 0 0 1 1 1 1 0 1 0]\n",
      " [0 0 1 0 1 1 1 0 1 0 0 0 1 1 0 0 0 0 1 0 0 1]]\n"
     ]
    }
   ],
   "source": [
    "bigram_vectorizer = CountVectorizer(ngram_range=(1, 2), token_pattern=r'\\b\\w+\\b', min_df=1)\n",
    "analyze = bigram_vectorizer.build_analyzer()\n",
    "analyze('Bi-grams are cool!')\n",
    "X_2 = bigram_vectorizer.fit_transform(corpus)\n",
    "print(X_2.toarray())"
   ]
  },
  {
   "cell_type": "code",
   "execution_count": 117,
   "id": "nonprofit-techno",
   "metadata": {},
   "outputs": [
    {
     "data": {
      "text/plain": [
       "scipy.sparse.csr.csr_matrix"
      ]
     },
     "execution_count": 117,
     "metadata": {},
     "output_type": "execute_result"
    }
   ],
   "source": [
    "type(X_2)"
   ]
  },
  {
   "cell_type": "code",
   "execution_count": 53,
   "id": "acoustic-given",
   "metadata": {},
   "outputs": [
    {
     "data": {
      "text/plain": [
       "2.791759469228055"
      ]
     },
     "execution_count": 53,
     "metadata": {},
     "output_type": "execute_result"
    }
   ],
   "source": [
    "import numpy as np\n",
    "from sklearn.feature_extraction.text import TfidfTransformer\n",
    "transformer = TfidfTransformer(smooth_idf=False)\n",
    "transformer\n",
    "\n",
    "counts = [[3, 0, 1],\n",
    "          [2, 0, 0],\n",
    "          [3, 0, 0],\n",
    "          [4, 0, 0],\n",
    "          [3, 2, 0],\n",
    "          [3, 0, 2]]\n",
    "\n",
    "tfidf = transformer.fit_transform(counts)\n",
    "tfidf\n",
    "tfidf.toarray(), transformer.idf_\n",
    "\n",
    "\n",
    "\n",
    "\n"
   ]
  },
  {
   "cell_type": "code",
   "execution_count": 91,
   "id": "worthy-fisher",
   "metadata": {},
   "outputs": [
    {
     "name": "stdout",
     "output_type": "stream",
     "text": [
      "Automatically created module for IPython interactive environment\n",
      "Loading 20 newsgroups dataset for categories:\n",
      "['alt.atheism', 'talk.religion.misc']\n",
      "857 documents\n",
      "2 categories\n",
      "\n",
      "Performing grid search...\n",
      "pipeline: ['vect', 'tfidf', 'clf']\n",
      "parameters:\n",
      "{'vect__max_df': (0.5, 0.75, 1.0), 'vect__ngram_range': ((1, 1), (1, 2)), 'clf__max_iter': (20,), 'clf__alpha': (1e-05, 1e-06), 'clf__penalty': ('l2', 'elasticnet')}\n",
      "Fitting 5 folds for each of 24 candidates, totalling 120 fits\n",
      "done in 38.613s\n",
      "\n",
      "Best score: 0.957\n",
      "Best parameters set:\n",
      "\tclf__alpha: 1e-05\n",
      "\tclf__max_iter: 20\n",
      "\tclf__penalty: 'l2'\n",
      "\tvect__max_df: 1.0\n",
      "\tvect__ngram_range: (1, 2)\n"
     ]
    }
   ],
   "source": [
    "from pprint import pprint\n",
    "from time import time\n",
    "import logging\n",
    "\n",
    "from sklearn.datasets import fetch_20newsgroups\n",
    "from sklearn.feature_extraction.text import CountVectorizer\n",
    "from sklearn.feature_extraction.text import TfidfTransformer\n",
    "from sklearn.linear_model import SGDClassifier\n",
    "from sklearn.model_selection import GridSearchCV\n",
    "from sklearn.pipeline import Pipeline\n",
    "\n",
    "print(__doc__)\n",
    "\n",
    "# Display progress logs on stdout\n",
    "logging.basicConfig(level=logging.INFO,\n",
    "                    format='%(asctime)s %(levelname)s %(message)s')\n",
    "\n",
    "\n",
    "# #############################################################################\n",
    "# Load some categories from the training set\n",
    "categories = [\n",
    "    'alt.atheism',\n",
    "    'talk.religion.misc',\n",
    "]\n",
    "# Uncomment the following to do the analysis on all the categories\n",
    "#categories = None\n",
    "\n",
    "print(\"Loading 20 newsgroups dataset for categories:\")\n",
    "print(categories)\n",
    "\n",
    "data = fetch_20newsgroups(subset='train', categories=categories)\n",
    "print(\"%d documents\" % len(data.filenames))\n",
    "print(\"%d categories\" % len(data.target_names))\n",
    "print()\n",
    "\n",
    "# #############################################################################\n",
    "# Define a pipeline combining a text feature extractor with a simple\n",
    "# classifier\n",
    "pipeline = Pipeline([\n",
    "    ('vect', CountVectorizer()),\n",
    "    ('tfidf', TfidfTransformer()),\n",
    "    ('clf', SGDClassifier()),\n",
    "])\n",
    "\n",
    "# uncommenting more parameters will give better exploring power but will\n",
    "# increase processing time in a combinatorial way\n",
    "parameters = {\n",
    "    'vect__max_df': (0.5, 0.75, 1.0),\n",
    "    # 'vect__max_features': (None, 5000, 10000, 50000),\n",
    "    'vect__ngram_range': ((1, 1), (1, 2)),  # unigrams or bigrams\n",
    "    # 'tfidf__use_idf': (True, False),\n",
    "    # 'tfidf__norm': ('l1', 'l2'),\n",
    "    'clf__max_iter': (20,),\n",
    "    'clf__alpha': (0.00001, 0.000001),\n",
    "    'clf__penalty': ('l2', 'elasticnet'),\n",
    "    # 'clf__max_iter': (10, 50, 80),\n",
    "}\n",
    "\n",
    "if __name__ == \"__main__\":\n",
    "    # multiprocessing requires the fork to happen in a __main__ protected\n",
    "    # block\n",
    "\n",
    "    # find the best parameters for both the feature extraction and the\n",
    "    # classifier\n",
    "    grid_search = GridSearchCV(pipeline, parameters, n_jobs=-1, verbose=1)\n",
    "\n",
    "    print(\"Performing grid search...\")\n",
    "    print(\"pipeline:\", [name for name, _ in pipeline.steps])\n",
    "    print(\"parameters:\")\n",
    "    print(parameters)\n",
    "    t0 = time()\n",
    "    grid_search.fit(data.data, data.target)\n",
    "    print(\"done in %0.3fs\" % (time() - t0))\n",
    "    print()\n",
    "\n",
    "    print(\"Best score: %0.3f\" % grid_search.best_score_)\n",
    "    print(\"Best parameters set:\")\n",
    "    best_parameters = grid_search.best_estimator_.get_params()\n",
    "    for param_name in sorted(parameters.keys()):\n",
    "        print(\"\\t%s: %r\" % (param_name, best_parameters[param_name]))"
   ]
  },
  {
   "cell_type": "code",
   "execution_count": 114,
   "id": "aware-mumbai",
   "metadata": {},
   "outputs": [
    {
     "data": {
      "text/plain": [
       "[' m', 'ds', 'ml', 'or', 'pr', 'rd', 's ', 'wo', 'wp']"
      ]
     },
     "execution_count": 114,
     "metadata": {},
     "output_type": "execute_result"
    }
   ],
   "source": [
    "ngram_vectorizer = CountVectorizer(analyzer='char', ngram_range=(2, 2))\n",
    "counts = ngram_vectorizer.fit_transform(['words ml', 'wprds'])\n",
    "ngram_vectorizer.get_feature_names()\n",
    "#counts.toarray().astype(int)"
   ]
  },
  {
   "cell_type": "code",
   "execution_count": 306,
   "id": "black-product",
   "metadata": {},
   "outputs": [
    {
     "data": {
      "text/plain": [
       "<4x22 sparse matrix of type '<class 'numpy.int64'>'\n",
       "\twith 39 stored elements in Compressed Sparse Row format>"
      ]
     },
     "execution_count": 306,
     "metadata": {},
     "output_type": "execute_result"
    }
   ],
   "source": [
    "from sklearn.feature_extraction.text import CountVectorizer, TfidfVectorizer\n",
    "from scipy.sparse import csr_matrix, csc_matrix\n",
    "corpus = [\n",
    "    'This is the first document.',\n",
    "    'This document is the second document.',\n",
    "    'And this is the third one.',\n",
    "    'Is this the first document?',\n",
    "]\n",
    "\n",
    "vectorizer = CountVectorizer(ngram_range=(1,2))\n",
    "X = vectorizer.fit_transform(corpus)\n"
   ]
  },
  {
   "cell_type": "code",
   "execution_count": 366,
   "id": "greatest-gasoline",
   "metadata": {},
   "outputs": [
    {
     "data": {
      "text/plain": [
       "<4x8 sparse matrix of type '<class 'numpy.float64'>'\n",
       "\twith 20 stored elements in Compressed Sparse Row format>"
      ]
     },
     "execution_count": 366,
     "metadata": {},
     "output_type": "execute_result"
    }
   ],
   "source": [
    "from sklearn.feature_extraction.text import TfidfTransformer\n",
    "from sklearn.feature_extraction.text import CountVectorizer\n",
    "from sklearn.pipeline import Pipeline\n",
    "import numpy as np\n",
    "corpus = ['this is the first document',\n",
    "          'this document is the second document',\n",
    "          'and this is the third one',\n",
    "          'is this the first document']\n",
    "\n",
    "vocabulary = ['this', 'document', 'first', 'is', 'second', 'the', 'and', 'one']\n",
    "pipe = Pipeline([('count', CountVectorizer(vocabulary=vocabulary)), ('tfid', TfidfTransformer())])\n",
    "X = pipe.fit_transform(corpus)\n",
    "X.sort_indices()\n",
    "X.has_sorted_indices\n",
    "X\n",
    "\n",
    "\n",
    "\n",
    "# pipe.transform(corpus)\n",
    "# pipe['count'].transform(corpus).toarray()\n",
    "# pipe['tfid'].idf_\n",
    "# pipe.transform(corpus).shape"
   ]
  },
  {
   "cell_type": "code",
   "execution_count": 372,
   "id": "geological-chemistry",
   "metadata": {},
   "outputs": [
    {
     "name": "stdout",
     "output_type": "stream",
     "text": [
      "All 3-grams in \"Deluxroom\":\n"
     ]
    },
    {
     "data": {
      "text/plain": [
       "['aaa',\n",
       " 'aa ',\n",
       " 'a D',\n",
       " ' De',\n",
       " 'Del',\n",
       " 'elu',\n",
       " 'lux',\n",
       " 'uxr',\n",
       " 'xro',\n",
       " 'roo',\n",
       " 'oom',\n",
       " 'om ']"
      ]
     },
     "execution_count": 372,
     "metadata": {},
     "output_type": "execute_result"
    }
   ],
   "source": [
    "import re\n",
    "def ngrams(string, n=3):\n",
    "    string = re.sub(r'[,-./]|\\sBD',r'', string)\n",
    "    ngrams = zip(*[string[i:] for i in range(n)])\n",
    "    return [''.join(ngram) for ngram in ngrams]\n",
    "# Testing ngrams work for verification\n",
    "print('All 3-grams in \"Deluxroom\":')\n",
    "\n",
    "ngrams('aaa Deluxroom ')"
   ]
  },
  {
   "cell_type": "code",
   "execution_count": null,
   "id": "native-humanitarian",
   "metadata": {},
   "outputs": [],
   "source": [
    "re.split(r'\\s+', raw)"
   ]
  },
  {
   "cell_type": "code",
   "execution_count": 12,
   "id": "super-watson",
   "metadata": {},
   "outputs": [
    {
     "data": {
      "text/plain": [
       "__main__.FooReader"
      ]
     },
     "execution_count": 12,
     "metadata": {},
     "output_type": "execute_result"
    }
   ],
   "source": [
    "from typing import Protocol, runtime_checkable\n",
    "\n",
    "\n",
    "@runtime_checkable\n",
    "class Reader(Protocol):\n",
    "    def read(self) -> str:\n",
    "\n",
    "        pass\n",
    "\n",
    "\n",
    "class FooReader:\n",
    "    def read(self) -> str:\n",
    "        return \"foo\"\n",
    "\n",
    "\n",
    "type(FooReader())"
   ]
  },
  {
   "cell_type": "code",
   "execution_count": 26,
   "id": "metropolitan-relay",
   "metadata": {},
   "outputs": [],
   "source": [
    "def t():\n",
    "    a: aa\n",
    "\n",
    "\n",
    "class A:\n",
    "    instance_var: int = None\n",
    "    instance_var2: int = \"s\"\n",
    "\n",
    "\n",
    "A()\n",
    "A.instance_var"
   ]
  },
  {
   "cell_type": "code",
   "execution_count": 32,
   "id": "thorough-inventory",
   "metadata": {},
   "outputs": [
    {
     "data": {
      "text/plain": [
       "[<matplotlib.lines.Line2D at 0x7f9515433d30>]"
      ]
     },
     "execution_count": 32,
     "metadata": {},
     "output_type": "execute_result"
    },
    {
     "data": {
      "image/png": "[encoded data removed]",
      "text/plain": [
       "<Figure size 432x288 with 1 Axes>"
      ]
     },
     "metadata": {
      "needs_background": "light"
     },
     "output_type": "display_data"
    }
   ],
   "source": [
    "import numpy as np\n",
    "\n",
    "np.random.seed(12345)\n",
    "arparams = np.array([0.75, -0.25])\n",
    "maparams = np.array([0.65, 0.35])\n",
    "ar = np.r_[1, -arparams]  # add zero-lag and negate\n",
    "ma = np.r_[1, maparams]  # add zero-lag\n",
    "y = sm.tsa.arma_generate_sample(ar, ma, 250)\n",
    "\n",
    "plt.plot(y)\n",
    "\n"
   ]
  },
  {
   "cell_type": "code",
   "execution_count": 8,
   "id": "analyzed-chile",
   "metadata": {},
   "outputs": [
    {
     "data": {
      "image/png": "[encoded data removed]",
      "text/plain": [
       "<Figure size 432x288 with 1 Axes>"
      ]
     },
     "metadata": {
      "needs_background": "light"
     },
     "output_type": "display_data"
    }
   ],
   "source": [
    "from scipy.stats import randint\n",
    "import numpy as np\n",
    "import matplotlib.pyplot as plt\n",
    "\n",
    "fig, ax = plt.subplots(1, 1);\n",
    "\n",
    "low, high = 7, 31\n",
    "mean, var, skew, kurt = randint.stats(low, high, moments='mvsk')\n",
    "\n",
    "x = np.arange(randint.ppf(0.01, low, high), randint.ppf(0.99, low, high))\n",
    "rv = randint(low, high)\n",
    "ax.plot(x, randint.pmf(x, low, high), 'bo', ms=8, label='randint pmf')\n",
    "ax.vlines(x, 0, rv.pmf(x), colors='b', lw=5, alpha=0.5, label='frozen pmf')\n",
    "ax.legend(loc='best', frameon=False)\n",
    "plt.show()"
   ]
  },
  {
   "cell_type": "code",
   "execution_count": 3,
   "id": "willing-midnight",
   "metadata": {},
   "outputs": [
    {
     "data": {
      "text/plain": [
       "array([    64,    152,    245, ..., 404945, 404946, 404970])"
      ]
     },
     "execution_count": 3,
     "metadata": {},
     "output_type": "execute_result"
    },
    {
     "data": {
      "image/png": "[encoded data removed]",
      "text/plain": [
       "<Figure size 432x288 with 1 Axes>"
      ]
     },
     "metadata": {
      "needs_background": "light"
     },
     "output_type": "display_data"
    }
   ],
   "source": [
    "# Increasing data structure records\n",
    "low, high = -20, 100\n",
    "size = 10000\n",
    "\n",
    "unif = np.random.randint(low, high, size)\n",
    "obs = np.cumsum(unif)\n",
    "\n",
    "fig, ax = plt.subplots(1, 1)\n",
    "# ax.plot(obs)\n",
    "obs"
   ]
  },
  {
   "cell_type": "code",
   "execution_count": 93,
   "id": "patent-dealer",
   "metadata": {},
   "outputs": [
    {
     "data": {
      "text/plain": [
       "array([100,  99,  99, ..., 109, 110, 110])"
      ]
     },
     "execution_count": 93,
     "metadata": {},
     "output_type": "execute_result"
    },
    {
     "data": {
      "image/png": "[encoded data removed]",
      "text/plain": [
       "<Figure size 432x288 with 1 Axes>"
      ]
     },
     "metadata": {
      "needs_background": "light"
     },
     "output_type": "display_data"
    }
   ],
   "source": [
    "# Oscilating data structure records\n",
    "low, high = -1, 2\n",
    "size = 10000\n",
    "\n",
    "init = 100\n",
    "unif = np.random.randint(low, high, size)\n",
    "obs = np.cumsum(np.concatenate(([100], unif)))\n",
    "\n",
    "fig, ax = plt.subplots(1, 1)\n",
    "ax.plot(obs)\n",
    "obs"
   ]
  },
  {
   "cell_type": "code",
   "execution_count": 110,
   "id": "fitting-tribe",
   "metadata": {},
   "outputs": [
    {
     "data": {
      "text/plain": [
       "array([100000,  99986,  99981, ...,  45759,  45763,  45766])"
      ]
     },
     "execution_count": 110,
     "metadata": {},
     "output_type": "execute_result"
    },
    {
     "data": {
      "image/png": "[encoded data removed]",
      "text/plain": [
       "<Figure size 432x288 with 1 Axes>"
      ]
     },
     "metadata": {
      "needs_background": "light"
     },
     "output_type": "display_data"
    }
   ],
   "source": [
    "# Decreasing data structure records\n",
    "low, high = -20, 10\n",
    "size = 10000\n",
    "\n",
    "init = 100000\n",
    "unif = np.random.randint(low, high, size)\n",
    "obs = np.cumsum(np.concatenate(([init], unif)))\n",
    "\n",
    "fig, ax = plt.subplots(1, 1)\n",
    "ax.plot(obs)\n",
    "obs"
   ]
  },
  {
   "cell_type": "code",
   "execution_count": 9,
   "id": "valued-theorem",
   "metadata": {},
   "outputs": [
    {
     "name": "stdout",
     "output_type": "stream",
     "text": [
      "t: type <class 'asyncio.tasks.Task'>\n",
      "t done: True\n"
     ]
    },
    {
     "data": {
      "text/plain": [
       "'2021-08-05T10-02-25'"
      ]
     },
     "execution_count": 9,
     "metadata": {},
     "output_type": "execute_result"
    }
   ],
   "source": [
    "import asyncio\n",
    "import nest_asyncio\n",
    "import time \n",
    "\n",
    "async def coro(seq) -> list:\n",
    "    \"\"\"'IO' wait time is proportional to the max element.\"\"\"\n",
    "    await asyncio.sleep(max(seq))\n",
    "    return list(reversed(seq))\n",
    "\n",
    "async def main():\n",
    "    task = asyncio.create_task(coro([3, 2, 1]))  # Python 3.7+\n",
    "    t = await asyncio.gather(task)\n",
    "    print(f't: type {type(task)}')\n",
    "    print(f't done: {task.done()}')\n",
    "    return t\n",
    "\n",
    "nest_asyncio.apply()\n",
    "res = asyncio.run(main())\n",
    "res\n",
    "import datetime\n",
    "time.strftime('%Y-%m-%dT%H-%M-%S')"
   ]
  }
 ],
 "metadata": {
  "kernelspec": {
   "display_name": "Python 3",
   "language": "python",
   "name": "python3"
  },
  "language_info": {
   "codemirror_mode": {
    "name": "ipython",
    "version": 3
   },
   "file_extension": ".py",
   "mimetype": "text/x-python",
   "name": "python",
   "nbconvert_exporter": "python",
   "pygments_lexer": "ipython3",
   "version": "3.8.5"
  }
 },
 "nbformat": 4,
 "nbformat_minor": 5
}
