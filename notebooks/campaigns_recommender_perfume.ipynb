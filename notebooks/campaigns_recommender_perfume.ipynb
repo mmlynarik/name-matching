{
 "cells": [
  {
   "cell_type": "markdown",
   "id": "theoretical-palestine",
   "metadata": {},
   "source": [
    "# NOTINO Sampling Campaigns Optimisation - Recommender system for perfumes based on implicit feedback"
   ]
  },
  {
   "cell_type": "markdown",
   "id": "important-reserve",
   "metadata": {},
   "source": [
    "The following sections present the development process of a recommender system based on implicit feedback in the form of purchase history of perfume category of products, which would allow Notino to better target customers during their sampling campaigns, with the aim of increasing performance of these campaigns in terms of conversion rate. "
   ]
  },
  {
   "cell_type": "code",
   "execution_count": 151,
   "id": "orange-understanding",
   "metadata": {},
   "outputs": [],
   "source": [
    "import os\n",
    "\n",
    "import numpy as np\n",
    "import pandas as pd\n",
    "import seaborn as sns\n",
    "import matplotlib.pyplot as plt\n",
    "import pymssql\n",
    "import openpyxl\n",
    "from utils_recommender import *\n",
    "from IPython.display import HTML, display, IFrame, Markdown as md, display_html, Image\n",
    "from IPython import get_ipython\n",
    "\n",
    "%reload_ext autoreload\n",
    "get_ipython().magic(\"autoreload 2\");\n",
    "plt.rcParams['axes.labelsize'] = 10\n",
    "plt.rcParams['axes.xmargin'] = 0.01\n",
    "plt.rcParams['axes.titlesize'] = 10\n",
    "pd.set_option('display.float_format', lambda x: '%.0f' % x if (x == x and x*10 % 10 == 0) else ('%.1f' % x if (x == x and x*100 % 10 == 0) else '%.2f' % x))\n",
    "pd.set_option('display.max_columns', 80)\n",
    "pd.set_option('display.max_rows', 70)\n",
    "plt.style.use('ggplot')\n",
    "%matplotlib inline"
   ]
  },
  {
   "cell_type": "markdown",
   "id": "western-advertiser",
   "metadata": {},
   "source": [
    "## 1. Data initialisation"
   ]
  },
  {
   "cell_type": "markdown",
   "id": "conscious-mission",
   "metadata": {},
   "source": [
    "**The purchase history data used in this model have been collected at so-called purchase (or item) level and not at the usual transaction level**, i.e. each observation in the input data represents a particular item bought by a customer. For the modelling purposes, this purchases data will be aggregated to the user-item level, summing the number of times each perfume item was purchased by a user into the `purchases` variable. In addition, for notational convenience, the original labels `customer_id` and `product_name_id` were renamed as `user_id` and `item_id`."
   ]
  },
  {
   "cell_type": "code",
   "execution_count": 4,
   "id": "nonprofit-percentage",
   "metadata": {},
   "outputs": [],
   "source": [
    "engine = sql.create_engine(os.environ['SIMPLITY_DB'])\n",
    "\n",
    "# Training set (2018-19)\n",
    "query_train = f\"\"\"select * from recommender_perfume_purchase_history_train;\"\"\"\n",
    "purchases_train = pd.read_sql(query_train, engine, parse_dates=['order_date'])\n",
    "purchases_train.customer_id = purchases_train.customer_id.astype(str)\n",
    "purchases_train = purchases_train.rename(columns={'customer_id': 'user_id', 'product_name_id': 'item_id'})\n",
    "\n",
    "# Validation & Test set (Q1/2020)\n",
    "query_valid_test = f\"\"\"select * from recommender_perfume_purchase_history_valid_test;\"\"\"\n",
    "purchases_valid_test = pd.read_sql(query_valid_test, engine, parse_dates=['order_date'])\n",
    "purchases_valid_test.customer_id = purchases_valid_test.customer_id.astype(str)\n",
    "purchases_valid_test = purchases_valid_test.rename(columns={'customer_id': 'user_id', 'product_name_id': 'item_id'})"
   ]
  },
  {
   "cell_type": "markdown",
   "id": "sophisticated-provincial",
   "metadata": {},
   "source": [
    "### 1.1 Training set construction"
   ]
  },
  {
   "cell_type": "markdown",
   "id": "spanish-certificate",
   "metadata": {},
   "source": [
    "First, let's check the **number of purchased items and users** in the training purchases dataset constructed using users which purchased **at least 3 and at most 75 perfume items (i.e. 3 perfumes per month) from 1.1.2018 until 31.12.2019.** In terms of the total number of customers who purchased a perfume item within the training period od 2018-19, the training purchases dataset contains roughly 25% of all customers (the remaining 75% customers purchased either less than 3 or more than 75 items)."
   ]
  },
  {
   "cell_type": "code",
   "execution_count": 4,
   "id": "geographic-slovenia",
   "metadata": {},
   "outputs": [
    {
     "data": {
      "text/html": [
       "<div>\n",
       "<style scoped>\n",
       "    .dataframe tbody tr th:only-of-type {\n",
       "        vertical-align: middle;\n",
       "    }\n",
       "\n",
       "    .dataframe tbody tr th {\n",
       "        vertical-align: top;\n",
       "    }\n",
       "\n",
       "    .dataframe thead th {\n",
       "        text-align: right;\n",
       "    }\n",
       "</style>\n",
       "<table border=\"1\" class=\"dataframe\">\n",
       "  <thead>\n",
       "    <tr style=\"text-align: right;\">\n",
       "      <th></th>\n",
       "      <th>user_id</th>\n",
       "      <th>order_date</th>\n",
       "      <th>item_id</th>\n",
       "      <th>master_product_id</th>\n",
       "      <th>subcategory</th>\n",
       "      <th>type</th>\n",
       "    </tr>\n",
       "  </thead>\n",
       "  <tbody>\n",
       "    <tr>\n",
       "      <th>0</th>\n",
       "      <td>42580914-f4e1-425f-9c7d-8b2bafbde5a6</td>\n",
       "      <td>2018-11-24</td>\n",
       "      <td>Cerruti 1881 pour Femme EDT W</td>\n",
       "      <td>CRTPFNW_AEDT10</td>\n",
       "      <td>Women’s perfumes</td>\n",
       "      <td>Eaux de Toilette</td>\n",
       "    </tr>\n",
       "    <tr>\n",
       "      <th>1</th>\n",
       "      <td>7ca100db-7db9-4b75-97c9-021a913b7e86</td>\n",
       "      <td>2018-02-10</td>\n",
       "      <td>Cerruti 1881 pour Femme EDT W</td>\n",
       "      <td>CRTPFNW_AEDT10</td>\n",
       "      <td>Women’s perfumes</td>\n",
       "      <td>Eaux de Toilette</td>\n",
       "    </tr>\n",
       "    <tr>\n",
       "      <th>2</th>\n",
       "      <td>a5602c80-5554-4e3d-aa41-3d1a94ded2a7</td>\n",
       "      <td>2019-05-21</td>\n",
       "      <td>Cerruti 1881 pour Femme EDT W</td>\n",
       "      <td>CRTPFNW_AEDT10</td>\n",
       "      <td>Women’s perfumes</td>\n",
       "      <td>Eaux de Toilette</td>\n",
       "    </tr>\n",
       "    <tr>\n",
       "      <th>3</th>\n",
       "      <td>245beb0b-bba6-4517-803f-3e0419c9d046</td>\n",
       "      <td>2019-06-25</td>\n",
       "      <td>Cerruti 1881 pour Femme EDT W</td>\n",
       "      <td>CRTPFNW_AEDT10</td>\n",
       "      <td>Women’s perfumes</td>\n",
       "      <td>Eaux de Toilette</td>\n",
       "    </tr>\n",
       "    <tr>\n",
       "      <th>4</th>\n",
       "      <td>9503f640-e2fc-4dbf-a227-d8a030ca7f4a</td>\n",
       "      <td>2019-02-20</td>\n",
       "      <td>Cerruti 1881 pour Femme EDT W</td>\n",
       "      <td>CRTPFNW_AEDT10</td>\n",
       "      <td>Women’s perfumes</td>\n",
       "      <td>Eaux de Toilette</td>\n",
       "    </tr>\n",
       "  </tbody>\n",
       "</table>\n",
       "</div>"
      ],
      "text/plain": [
       "                                user_id order_date  \\\n",
       "0  42580914-f4e1-425f-9c7d-8b2bafbde5a6 2018-11-24   \n",
       "1  7ca100db-7db9-4b75-97c9-021a913b7e86 2018-02-10   \n",
       "2  a5602c80-5554-4e3d-aa41-3d1a94ded2a7 2019-05-21   \n",
       "3  245beb0b-bba6-4517-803f-3e0419c9d046 2019-06-25   \n",
       "4  9503f640-e2fc-4dbf-a227-d8a030ca7f4a 2019-02-20   \n",
       "\n",
       "                         item_id master_product_id       subcategory  \\\n",
       "0  Cerruti 1881 pour Femme EDT W    CRTPFNW_AEDT10  Women’s perfumes   \n",
       "1  Cerruti 1881 pour Femme EDT W    CRTPFNW_AEDT10  Women’s perfumes   \n",
       "2  Cerruti 1881 pour Femme EDT W    CRTPFNW_AEDT10  Women’s perfumes   \n",
       "3  Cerruti 1881 pour Femme EDT W    CRTPFNW_AEDT10  Women’s perfumes   \n",
       "4  Cerruti 1881 pour Femme EDT W    CRTPFNW_AEDT10  Women’s perfumes   \n",
       "\n",
       "               type  \n",
       "0  Eaux de Toilette  \n",
       "1  Eaux de Toilette  \n",
       "2  Eaux de Toilette  \n",
       "3  Eaux de Toilette  \n",
       "4  Eaux de Toilette  "
      ]
     },
     "metadata": {},
     "output_type": "display_data"
    },
    {
     "data": {
      "text/markdown": [
       "The number of purchased perfume items is **6,614,682.**\n"
      ],
      "text/plain": [
       "<IPython.core.display.Markdown object>"
      ]
     },
     "metadata": {},
     "output_type": "display_data"
    },
    {
     "data": {
      "text/markdown": [
       "The number of distinct users is **1,161,116.**\n"
      ],
      "text/plain": [
       "<IPython.core.display.Markdown object>"
      ]
     },
     "metadata": {},
     "output_type": "display_data"
    },
    {
     "data": {
      "text/markdown": [
       "The number of distinct items is **8,104.**\n"
      ],
      "text/plain": [
       "<IPython.core.display.Markdown object>"
      ]
     },
     "metadata": {},
     "output_type": "display_data"
    }
   ],
   "source": [
    "report(purchases_train)"
   ]
  },
  {
   "cell_type": "markdown",
   "id": "young-rider",
   "metadata": {},
   "source": [
    "Let's perform two consecutive technical aggregations due to incorrect distinct values for the same product in columns `master_product_id` and original `product_name`, which was replaced by `product_name_id`.\n",
    "**As a result of these aggregations, the output dataset will store distinct aggregated user-item interactions.**"
   ]
  },
  {
   "cell_type": "code",
   "execution_count": 5,
   "id": "front-companion",
   "metadata": {},
   "outputs": [],
   "source": [
    "purchases_train_agg_1st = purchases_train.groupby(\n",
    "    by=['user_id', 'master_product_id', 'subcategory', 'type']).agg(\n",
    "        purchases=('user_id', 'count'),\n",
    "        item_id=('item_id', lambda x: x.str.upper().max()),\n",
    "        first_order=('order_date', min),\n",
    "        last_order=('order_date', max)).reset_index()\n",
    "\n",
    "purchases_train_agg_2nd = purchases_train_agg_1st.groupby(\n",
    "    by=['user_id', 'item_id', 'subcategory', 'type']).agg(\n",
    "        purchases=('purchases', sum),\n",
    "        first_order=('first_order', min),\n",
    "        last_order=('last_order', max)).reset_index()"
   ]
  },
  {
   "cell_type": "markdown",
   "id": "incorporate-library",
   "metadata": {},
   "source": [
    "The last dataset used before constructing the training set is the `purchases_train_agg_2nd` dataset. Let's check its properties:"
   ]
  },
  {
   "cell_type": "code",
   "execution_count": 6,
   "id": "competitive-instrument",
   "metadata": {},
   "outputs": [
    {
     "data": {
      "text/html": [
       "<div>\n",
       "<style scoped>\n",
       "    .dataframe tbody tr th:only-of-type {\n",
       "        vertical-align: middle;\n",
       "    }\n",
       "\n",
       "    .dataframe tbody tr th {\n",
       "        vertical-align: top;\n",
       "    }\n",
       "\n",
       "    .dataframe thead th {\n",
       "        text-align: right;\n",
       "    }\n",
       "</style>\n",
       "<table border=\"1\" class=\"dataframe\">\n",
       "  <thead>\n",
       "    <tr style=\"text-align: right;\">\n",
       "      <th></th>\n",
       "      <th>user_id</th>\n",
       "      <th>item_id</th>\n",
       "      <th>subcategory</th>\n",
       "      <th>type</th>\n",
       "      <th>purchases</th>\n",
       "      <th>first_order</th>\n",
       "      <th>last_order</th>\n",
       "    </tr>\n",
       "  </thead>\n",
       "  <tbody>\n",
       "    <tr>\n",
       "      <th>0</th>\n",
       "      <td>00000542-7d7d-4344-864a-8490d7cc708e</td>\n",
       "      <td>BRUNO BANANI PURE WOMAN EDT W</td>\n",
       "      <td>Women’s perfumes</td>\n",
       "      <td>Eaux de Toilette</td>\n",
       "      <td>2</td>\n",
       "      <td>2019-01-30</td>\n",
       "      <td>2019-09-16</td>\n",
       "    </tr>\n",
       "    <tr>\n",
       "      <th>1</th>\n",
       "      <td>00000542-7d7d-4344-864a-8490d7cc708e</td>\n",
       "      <td>COACH COACH NEW YORK EDP W</td>\n",
       "      <td>Women’s perfumes</td>\n",
       "      <td>Eaux de Parfum</td>\n",
       "      <td>1</td>\n",
       "      <td>2019-11-24</td>\n",
       "      <td>2019-11-24</td>\n",
       "    </tr>\n",
       "    <tr>\n",
       "      <th>2</th>\n",
       "      <td>00000542-7d7d-4344-864a-8490d7cc708e</td>\n",
       "      <td>GUESS DARE EDT W</td>\n",
       "      <td>Women’s perfumes</td>\n",
       "      <td>Eaux de Toilette</td>\n",
       "      <td>2</td>\n",
       "      <td>2018-08-14</td>\n",
       "      <td>2019-11-24</td>\n",
       "    </tr>\n",
       "    <tr>\n",
       "      <th>3</th>\n",
       "      <td>00000542-7d7d-4344-864a-8490d7cc708e</td>\n",
       "      <td>HUGO BOSS BOSS BOTTLED EDT M</td>\n",
       "      <td>Men’s perfumes</td>\n",
       "      <td>Eaux de Toilette</td>\n",
       "      <td>2</td>\n",
       "      <td>2019-09-16</td>\n",
       "      <td>2019-10-21</td>\n",
       "    </tr>\n",
       "    <tr>\n",
       "      <th>4</th>\n",
       "      <td>00000542-7d7d-4344-864a-8490d7cc708e</td>\n",
       "      <td>LACOSTE TOUCH OF PINK EDT W</td>\n",
       "      <td>Women’s perfumes</td>\n",
       "      <td>Eaux de Toilette</td>\n",
       "      <td>1</td>\n",
       "      <td>2018-08-14</td>\n",
       "      <td>2018-08-14</td>\n",
       "    </tr>\n",
       "  </tbody>\n",
       "</table>\n",
       "</div>"
      ],
      "text/plain": [
       "                                user_id                        item_id  \\\n",
       "0  00000542-7d7d-4344-864a-8490d7cc708e  BRUNO BANANI PURE WOMAN EDT W   \n",
       "1  00000542-7d7d-4344-864a-8490d7cc708e     COACH COACH NEW YORK EDP W   \n",
       "2  00000542-7d7d-4344-864a-8490d7cc708e               GUESS DARE EDT W   \n",
       "3  00000542-7d7d-4344-864a-8490d7cc708e   HUGO BOSS BOSS BOTTLED EDT M   \n",
       "4  00000542-7d7d-4344-864a-8490d7cc708e    LACOSTE TOUCH OF PINK EDT W   \n",
       "\n",
       "        subcategory              type  purchases first_order last_order  \n",
       "0  Women’s perfumes  Eaux de Toilette          2  2019-01-30 2019-09-16  \n",
       "1  Women’s perfumes    Eaux de Parfum          1  2019-11-24 2019-11-24  \n",
       "2  Women’s perfumes  Eaux de Toilette          2  2018-08-14 2019-11-24  \n",
       "3    Men’s perfumes  Eaux de Toilette          2  2019-09-16 2019-10-21  \n",
       "4  Women’s perfumes  Eaux de Toilette          1  2018-08-14 2018-08-14  "
      ]
     },
     "metadata": {},
     "output_type": "display_data"
    },
    {
     "data": {
      "text/markdown": [
       "The number of aggregated users interactions, i.e. distinct user-item                 pairs, is **5,085,787.**\n"
      ],
      "text/plain": [
       "<IPython.core.display.Markdown object>"
      ]
     },
     "metadata": {},
     "output_type": "display_data"
    },
    {
     "data": {
      "text/markdown": [
       "The number of users interactions is **6,614,682.**\n"
      ],
      "text/plain": [
       "<IPython.core.display.Markdown object>"
      ]
     },
     "metadata": {},
     "output_type": "display_data"
    },
    {
     "data": {
      "text/markdown": [
       "The number of distinct users is **1,161,116.**\n"
      ],
      "text/plain": [
       "<IPython.core.display.Markdown object>"
      ]
     },
     "metadata": {},
     "output_type": "display_data"
    },
    {
     "data": {
      "text/markdown": [
       "The number of distinct items is **8,074.**\n"
      ],
      "text/plain": [
       "<IPython.core.display.Markdown object>"
      ]
     },
     "metadata": {},
     "output_type": "display_data"
    }
   ],
   "source": [
    "report(purchases_train_agg_2nd)"
   ]
  },
  {
   "cell_type": "markdown",
   "id": "demanding-hygiene",
   "metadata": {},
   "source": [
    "Let's check the **sparsity of the future interactions matrix**, calculated as the number of distinct user-item interactions divided by the product of users and items."
   ]
  },
  {
   "cell_type": "code",
   "execution_count": 7,
   "id": "posted-storage",
   "metadata": {},
   "outputs": [
    {
     "name": "stdout",
     "output_type": "stream",
     "text": [
      "Number of unique users: 1,161,116\n",
      "Number of unique items: 8,074\n",
      "Sparsity: 0.0542%\n"
     ]
    }
   ],
   "source": [
    "n_users = len(purchases_train_agg_2nd.user_id.unique())\n",
    "n_items = len(purchases_train_agg_2nd.item_id.unique())\n",
    "\n",
    "print(f'Number of unique users: {n_users:,.0f}')\n",
    "print(f'Number of unique items: {n_items:,.0f}')\n",
    "print(f'Sparsity: {len(purchases_train_agg_2nd)/(n_users*n_items):,.4%}')"
   ]
  },
  {
   "cell_type": "markdown",
   "id": "personal-application",
   "metadata": {},
   "source": [
    "In order to increase the sparsity and to **ensure that each item will be purchased at least three times (equivalent condition of each user having at least three item purchases)**, the thresholds will be iteratively applied on the train set until the numbers stabilize."
   ]
  },
  {
   "cell_type": "code",
   "execution_count": 8,
   "id": "inappropriate-talent",
   "metadata": {},
   "outputs": [
    {
     "name": "stdout",
     "output_type": "stream",
     "text": [
      "Starting data info\n",
      "Number of unique users: 1,161,116\n",
      "Number of unique items: 8,074\n",
      "Sparsity: 0.0542%\n",
      "Ending data info\n",
      "Number of unique users: 1,160,996\n",
      "Number of unique items: 7,561\n",
      "Sparsity: 0.0579%\n"
     ]
    }
   ],
   "source": [
    "train = threshold_interactions(purchases_train_agg_2nd, users_min=3, items_min=3, interactions='purchases')"
   ]
  },
  {
   "cell_type": "markdown",
   "id": "alpha-connecticut",
   "metadata": {},
   "source": [
    "### 1.2 Training set statistics"
   ]
  },
  {
   "cell_type": "markdown",
   "id": "wrapped-physics",
   "metadata": {},
   "source": [
    "Let's check whether **each user has a minimum of three purchases and each item has been purchased at least three times.**"
   ]
  },
  {
   "cell_type": "code",
   "execution_count": 9,
   "id": "senior-sympathy",
   "metadata": {},
   "outputs": [
    {
     "data": {
      "text/html": [
       "<style  type=\"text/css\" >\n",
       "</style><table id=\"T_7b745_\" style='display:inline'><thead>    <tr>        <th class=\"col_heading level0 col0\" >purchases</th>        <th class=\"col_heading level0 col1\" >users</th>    </tr></thead><tbody>\n",
       "                <tr>\n",
       "                                <td id=\"T_7b745_row0_col0\" class=\"data row0 col0\" >3</td>\n",
       "                        <td id=\"T_7b745_row0_col1\" class=\"data row0 col1\" >403,611</td>\n",
       "            </tr>\n",
       "            <tr>\n",
       "                                <td id=\"T_7b745_row1_col0\" class=\"data row1 col0\" >4</td>\n",
       "                        <td id=\"T_7b745_row1_col1\" class=\"data row1 col1\" >236,266</td>\n",
       "            </tr>\n",
       "            <tr>\n",
       "                                <td id=\"T_7b745_row2_col0\" class=\"data row2 col0\" >5</td>\n",
       "                        <td id=\"T_7b745_row2_col1\" class=\"data row2 col1\" >145,347</td>\n",
       "            </tr>\n",
       "            <tr>\n",
       "                                <td id=\"T_7b745_row3_col0\" class=\"data row3 col0\" >6</td>\n",
       "                        <td id=\"T_7b745_row3_col1\" class=\"data row3 col1\" >97,631</td>\n",
       "            </tr>\n",
       "            <tr>\n",
       "                                <td id=\"T_7b745_row4_col0\" class=\"data row4 col0\" >7</td>\n",
       "                        <td id=\"T_7b745_row4_col1\" class=\"data row4 col1\" >66,339</td>\n",
       "            </tr>\n",
       "    </tbody></table>          <style  type=\"text/css\" >\n",
       "</style><table id=\"T_ec746_\" style='display:inline'><thead>    <tr>        <th class=\"col_heading level0 col0\" >purchases</th>        <th class=\"col_heading level0 col1\" >users</th>    </tr></thead><tbody>\n",
       "                <tr>\n",
       "                                <td id=\"T_ec746_row0_col0\" class=\"data row0 col0\" >72</td>\n",
       "                        <td id=\"T_ec746_row0_col1\" class=\"data row0 col1\" >28</td>\n",
       "            </tr>\n",
       "            <tr>\n",
       "                                <td id=\"T_ec746_row1_col0\" class=\"data row1 col0\" >74</td>\n",
       "                        <td id=\"T_ec746_row1_col1\" class=\"data row1 col1\" >26</td>\n",
       "            </tr>\n",
       "            <tr>\n",
       "                                <td id=\"T_ec746_row2_col0\" class=\"data row2 col0\" >73</td>\n",
       "                        <td id=\"T_ec746_row2_col1\" class=\"data row2 col1\" >25</td>\n",
       "            </tr>\n",
       "            <tr>\n",
       "                                <td id=\"T_ec746_row3_col0\" class=\"data row3 col0\" >70</td>\n",
       "                        <td id=\"T_ec746_row3_col1\" class=\"data row3 col1\" >24</td>\n",
       "            </tr>\n",
       "            <tr>\n",
       "                                <td id=\"T_ec746_row4_col0\" class=\"data row4 col0\" >75</td>\n",
       "                        <td id=\"T_ec746_row4_col1\" class=\"data row4 col1\" >20</td>\n",
       "            </tr>\n",
       "    </tbody></table>                                        <style  type=\"text/css\" >\n",
       "</style><table id=\"T_c5247_\" style='display:inline'><thead>    <tr>        <th class=\"col_heading level0 col0\" >item</th>        <th class=\"col_heading level0 col1\" >purchases</th>    </tr></thead><tbody>\n",
       "                <tr>\n",
       "                                <td id=\"T_c5247_row0_col0\" class=\"data row0 col0\" >ANGEL SCHLESSER AGUA DE JAZMIN EDT W</td>\n",
       "                        <td id=\"T_c5247_row0_col1\" class=\"data row0 col1\" >3</td>\n",
       "            </tr>\n",
       "            <tr>\n",
       "                                <td id=\"T_c5247_row1_col0\" class=\"data row1 col0\" >DELAROM HOMME EAU SPORT EDP M</td>\n",
       "                        <td id=\"T_c5247_row1_col1\" class=\"data row1 col1\" >3</td>\n",
       "            </tr>\n",
       "            <tr>\n",
       "                                <td id=\"T_c5247_row2_col0\" class=\"data row2 col0\" >ALEXANDRE.J ULTIMATE COLLECTION: ST. HONORE EDP W</td>\n",
       "                        <td id=\"T_c5247_row2_col1\" class=\"data row2 col1\" >3</td>\n",
       "            </tr>\n",
       "            <tr>\n",
       "                                <td id=\"T_c5247_row3_col0\" class=\"data row3 col0\" >ALEXANDRE.J ULTIMATE COLLECTION: PURE ART EDP U</td>\n",
       "                        <td id=\"T_c5247_row3_col1\" class=\"data row3 col1\" >3</td>\n",
       "            </tr>\n",
       "            <tr>\n",
       "                                <td id=\"T_c5247_row4_col0\" class=\"data row4 col0\" >M. MICALLEF MON PARFUM GOLD EDP 30 ML</td>\n",
       "                        <td id=\"T_c5247_row4_col1\" class=\"data row4 col1\" >3</td>\n",
       "            </tr>\n",
       "    </tbody></table>          <style  type=\"text/css\" >\n",
       "</style><table id=\"T_4ff43_\" style='display:inline'><thead>    <tr>        <th class=\"col_heading level0 col0\" >item</th>        <th class=\"col_heading level0 col1\" >purchases</th>    </tr></thead><tbody>\n",
       "                <tr>\n",
       "                                <td id=\"T_4ff43_row0_col0\" class=\"data row0 col0\" >LANCOME LA VIE EST BELLE EDP W</td>\n",
       "                        <td id=\"T_4ff43_row0_col1\" class=\"data row0 col1\" >73071</td>\n",
       "            </tr>\n",
       "            <tr>\n",
       "                                <td id=\"T_4ff43_row1_col0\" class=\"data row1 col0\" >CHLOÉ CHLOÉ EDP W</td>\n",
       "                        <td id=\"T_4ff43_row1_col1\" class=\"data row1 col1\" >73975</td>\n",
       "            </tr>\n",
       "            <tr>\n",
       "                                <td id=\"T_4ff43_row2_col0\" class=\"data row2 col0\" >CALVIN KLEIN ETERNITY EDP W</td>\n",
       "                        <td id=\"T_4ff43_row2_col1\" class=\"data row2 col1\" >77333</td>\n",
       "            </tr>\n",
       "            <tr>\n",
       "                                <td id=\"T_4ff43_row3_col0\" class=\"data row3 col0\" >HUGO BOSS BOSS BOTTLED EDT M</td>\n",
       "                        <td id=\"T_4ff43_row3_col1\" class=\"data row3 col1\" >103227</td>\n",
       "            </tr>\n",
       "            <tr>\n",
       "                                <td id=\"T_4ff43_row4_col0\" class=\"data row4 col0\" >CALVIN KLEIN EUPHORIA EDP W</td>\n",
       "                        <td id=\"T_4ff43_row4_col1\" class=\"data row4 col1\" >128083</td>\n",
       "            </tr>\n",
       "    </tbody></table>"
      ]
     },
     "metadata": {},
     "output_type": "display_data"
    }
   ],
   "source": [
    "nitems_head = train.groupby(by='user_id').purchases.sum().value_counts().head().to_frame(name='users')\n",
    "nitems_head.index.name = 'purchases'\n",
    "nitems_head.reset_index(inplace=True)\n",
    "nitems_head = nitems_head.style.format('{:,.0f}').set_table_attributes(\"style='display:inline'\").hide_index()\n",
    "\n",
    "nitems_tail = train.groupby(by='user_id').purchases.sum().value_counts().tail().to_frame(name='users')\n",
    "nitems_tail.index.name = 'purchases'\n",
    "nitems_tail.reset_index(inplace=True)\n",
    "nitems_tail = nitems_tail.style.format('{:,.0f}').set_table_attributes(\"style='display:inline'\").hide_index()\n",
    "\n",
    "nusers_head = train.groupby(by='item_id').purchases.sum().sort_values().head().to_frame(name='purchases')\n",
    "nusers_head.index.name = 'item'\n",
    "nusers_head.reset_index(inplace=True)\n",
    "nusers_head = nusers_head.style.set_table_attributes(\"style='display:inline'\").hide_index()\n",
    "\n",
    "nusers_tail = train.groupby(by='item_id').purchases.sum().sort_values().tail().to_frame(name='purchases')\n",
    "nusers_tail.index.name = 'item'\n",
    "nusers_tail.reset_index(inplace=True)\n",
    "nusers_tail = nusers_tail.style.set_table_attributes(\"style='display:inline'\").hide_index()\n",
    "\n",
    "display_html(nitems_head._repr_html_() + \"\\xa0\" * 10 + nitems_tail._repr_html_() + \"\\xa0\" * 40 + \\\n",
    "             nusers_head._repr_html_() + \"\\xa0\" * 10 + nusers_tail._repr_html_(), raw=True)"
   ]
  },
  {
   "cell_type": "markdown",
   "id": "chicken-playback",
   "metadata": {},
   "source": [
    "**Final check of the number of users, items and interactions in the training set.**"
   ]
  },
  {
   "cell_type": "code",
   "execution_count": 10,
   "id": "pharmaceutical-delhi",
   "metadata": {},
   "outputs": [
    {
     "data": {
      "text/html": [
       "<div>\n",
       "<style scoped>\n",
       "    .dataframe tbody tr th:only-of-type {\n",
       "        vertical-align: middle;\n",
       "    }\n",
       "\n",
       "    .dataframe tbody tr th {\n",
       "        vertical-align: top;\n",
       "    }\n",
       "\n",
       "    .dataframe thead th {\n",
       "        text-align: right;\n",
       "    }\n",
       "</style>\n",
       "<table border=\"1\" class=\"dataframe\">\n",
       "  <thead>\n",
       "    <tr style=\"text-align: right;\">\n",
       "      <th></th>\n",
       "      <th>user_id</th>\n",
       "      <th>item_id</th>\n",
       "      <th>subcategory</th>\n",
       "      <th>type</th>\n",
       "      <th>purchases</th>\n",
       "      <th>first_order</th>\n",
       "      <th>last_order</th>\n",
       "    </tr>\n",
       "  </thead>\n",
       "  <tbody>\n",
       "    <tr>\n",
       "      <th>0</th>\n",
       "      <td>00000542-7d7d-4344-864a-8490d7cc708e</td>\n",
       "      <td>BRUNO BANANI PURE WOMAN EDT W</td>\n",
       "      <td>Women’s perfumes</td>\n",
       "      <td>Eaux de Toilette</td>\n",
       "      <td>2</td>\n",
       "      <td>2019-01-30</td>\n",
       "      <td>2019-09-16</td>\n",
       "    </tr>\n",
       "    <tr>\n",
       "      <th>1</th>\n",
       "      <td>00000542-7d7d-4344-864a-8490d7cc708e</td>\n",
       "      <td>COACH COACH NEW YORK EDP W</td>\n",
       "      <td>Women’s perfumes</td>\n",
       "      <td>Eaux de Parfum</td>\n",
       "      <td>1</td>\n",
       "      <td>2019-11-24</td>\n",
       "      <td>2019-11-24</td>\n",
       "    </tr>\n",
       "    <tr>\n",
       "      <th>2</th>\n",
       "      <td>00000542-7d7d-4344-864a-8490d7cc708e</td>\n",
       "      <td>GUESS DARE EDT W</td>\n",
       "      <td>Women’s perfumes</td>\n",
       "      <td>Eaux de Toilette</td>\n",
       "      <td>2</td>\n",
       "      <td>2018-08-14</td>\n",
       "      <td>2019-11-24</td>\n",
       "    </tr>\n",
       "    <tr>\n",
       "      <th>3</th>\n",
       "      <td>00000542-7d7d-4344-864a-8490d7cc708e</td>\n",
       "      <td>HUGO BOSS BOSS BOTTLED EDT M</td>\n",
       "      <td>Men’s perfumes</td>\n",
       "      <td>Eaux de Toilette</td>\n",
       "      <td>2</td>\n",
       "      <td>2019-09-16</td>\n",
       "      <td>2019-10-21</td>\n",
       "    </tr>\n",
       "    <tr>\n",
       "      <th>4</th>\n",
       "      <td>00000542-7d7d-4344-864a-8490d7cc708e</td>\n",
       "      <td>LACOSTE TOUCH OF PINK EDT W</td>\n",
       "      <td>Women’s perfumes</td>\n",
       "      <td>Eaux de Toilette</td>\n",
       "      <td>1</td>\n",
       "      <td>2018-08-14</td>\n",
       "      <td>2018-08-14</td>\n",
       "    </tr>\n",
       "  </tbody>\n",
       "</table>\n",
       "</div>"
      ],
      "text/plain": [
       "                                user_id                        item_id  \\\n",
       "0  00000542-7d7d-4344-864a-8490d7cc708e  BRUNO BANANI PURE WOMAN EDT W   \n",
       "1  00000542-7d7d-4344-864a-8490d7cc708e     COACH COACH NEW YORK EDP W   \n",
       "2  00000542-7d7d-4344-864a-8490d7cc708e               GUESS DARE EDT W   \n",
       "3  00000542-7d7d-4344-864a-8490d7cc708e   HUGO BOSS BOSS BOTTLED EDT M   \n",
       "4  00000542-7d7d-4344-864a-8490d7cc708e    LACOSTE TOUCH OF PINK EDT W   \n",
       "\n",
       "        subcategory              type  purchases first_order last_order  \n",
       "0  Women’s perfumes  Eaux de Toilette          2  2019-01-30 2019-09-16  \n",
       "1  Women’s perfumes    Eaux de Parfum          1  2019-11-24 2019-11-24  \n",
       "2  Women’s perfumes  Eaux de Toilette          2  2018-08-14 2019-11-24  \n",
       "3    Men’s perfumes  Eaux de Toilette          2  2019-09-16 2019-10-21  \n",
       "4  Women’s perfumes  Eaux de Toilette          1  2018-08-14 2018-08-14  "
      ]
     },
     "metadata": {},
     "output_type": "display_data"
    },
    {
     "data": {
      "text/markdown": [
       "The number of aggregated users interactions, i.e. distinct user-item                 pairs, is **5,084,851.**\n"
      ],
      "text/plain": [
       "<IPython.core.display.Markdown object>"
      ]
     },
     "metadata": {},
     "output_type": "display_data"
    },
    {
     "data": {
      "text/markdown": [
       "The number of users interactions is **6,613,716.**\n"
      ],
      "text/plain": [
       "<IPython.core.display.Markdown object>"
      ]
     },
     "metadata": {},
     "output_type": "display_data"
    },
    {
     "data": {
      "text/markdown": [
       "The number of distinct users is **1,160,996.**\n"
      ],
      "text/plain": [
       "<IPython.core.display.Markdown object>"
      ]
     },
     "metadata": {},
     "output_type": "display_data"
    },
    {
     "data": {
      "text/markdown": [
       "The number of distinct items is **7,561.**\n"
      ],
      "text/plain": [
       "<IPython.core.display.Markdown object>"
      ]
     },
     "metadata": {},
     "output_type": "display_data"
    },
    {
     "data": {
      "text/markdown": [
       "The training set date range is from **01.01.2018** to **31.12.2019**."
      ],
      "text/plain": [
       "<IPython.core.display.Markdown object>"
      ]
     },
     "execution_count": 10,
     "metadata": {},
     "output_type": "execute_result"
    }
   ],
   "source": [
    "report(train)\n",
    "md(f\"The training set date range is from **{train.first_order.min():%d.%m.%Y}** to **{train.last_order.max():%d.%m.%Y}**.\")"
   ]
  },
  {
   "cell_type": "markdown",
   "id": "crude-manner",
   "metadata": {},
   "source": [
    "### 1.3 Validation and test sets construction"
   ]
  },
  {
   "cell_type": "markdown",
   "id": "alert-practitioner",
   "metadata": {},
   "source": [
    "First, let's check the **number of purchases, distinct users and items in the joint valid_test purchases dataset**, constructed in the SQL query from users from the training set with time **restriction to 3 months after the end of the training set (Q1/2020).** "
   ]
  },
  {
   "cell_type": "code",
   "execution_count": 35,
   "id": "humanitarian-authorization",
   "metadata": {},
   "outputs": [
    {
     "data": {
      "text/html": [
       "<div>\n",
       "<style scoped>\n",
       "    .dataframe tbody tr th:only-of-type {\n",
       "        vertical-align: middle;\n",
       "    }\n",
       "\n",
       "    .dataframe tbody tr th {\n",
       "        vertical-align: top;\n",
       "    }\n",
       "\n",
       "    .dataframe thead th {\n",
       "        text-align: right;\n",
       "    }\n",
       "</style>\n",
       "<table border=\"1\" class=\"dataframe\">\n",
       "  <thead>\n",
       "    <tr style=\"text-align: right;\">\n",
       "      <th></th>\n",
       "      <th>user_id</th>\n",
       "      <th>order_date</th>\n",
       "      <th>item_id</th>\n",
       "      <th>master_product_id</th>\n",
       "      <th>subcategory</th>\n",
       "      <th>type</th>\n",
       "    </tr>\n",
       "  </thead>\n",
       "  <tbody>\n",
       "    <tr>\n",
       "      <th>0</th>\n",
       "      <td>ce1b7b76-de37-4ac9-ba83-07c110a5f5e5</td>\n",
       "      <td>2020-02-05</td>\n",
       "      <td>Davidoff Hot Water EDT M</td>\n",
       "      <td>DDFHOTM_AEDT10</td>\n",
       "      <td>Men’s perfumes</td>\n",
       "      <td>Eaux de Toilette</td>\n",
       "    </tr>\n",
       "    <tr>\n",
       "      <th>1</th>\n",
       "      <td>fb686a75-0747-4ae7-988d-d6ca5f9546b7</td>\n",
       "      <td>2020-02-09</td>\n",
       "      <td>Davidoff Hot Water EDT M</td>\n",
       "      <td>DDFHOTM_AEDT10</td>\n",
       "      <td>Men’s perfumes</td>\n",
       "      <td>Eaux de Toilette</td>\n",
       "    </tr>\n",
       "    <tr>\n",
       "      <th>2</th>\n",
       "      <td>dfa18f30-eb3b-4704-8c9c-38c276693382</td>\n",
       "      <td>2020-02-25</td>\n",
       "      <td>Davidoff Hot Water EDT M</td>\n",
       "      <td>DDFHOTM_AEDT10</td>\n",
       "      <td>Men’s perfumes</td>\n",
       "      <td>Eaux de Toilette</td>\n",
       "    </tr>\n",
       "    <tr>\n",
       "      <th>3</th>\n",
       "      <td>c937fa89-2abb-4c4d-b2dd-3ac7a89cfe07</td>\n",
       "      <td>2020-03-02</td>\n",
       "      <td>Davidoff Hot Water EDT M</td>\n",
       "      <td>DDFHOTM_AEDT10</td>\n",
       "      <td>Men’s perfumes</td>\n",
       "      <td>Eaux de Toilette</td>\n",
       "    </tr>\n",
       "    <tr>\n",
       "      <th>4</th>\n",
       "      <td>2c294b1e-232f-43b9-808e-85e7f2aeb4f6</td>\n",
       "      <td>2020-03-31</td>\n",
       "      <td>Davidoff Cool Water EDT M</td>\n",
       "      <td>DDFCWMM_AEDT10</td>\n",
       "      <td>Men’s perfumes</td>\n",
       "      <td>Eaux de Toilette</td>\n",
       "    </tr>\n",
       "  </tbody>\n",
       "</table>\n",
       "</div>"
      ],
      "text/plain": [
       "                                user_id order_date                    item_id  \\\n",
       "0  ce1b7b76-de37-4ac9-ba83-07c110a5f5e5 2020-02-05   Davidoff Hot Water EDT M   \n",
       "1  fb686a75-0747-4ae7-988d-d6ca5f9546b7 2020-02-09   Davidoff Hot Water EDT M   \n",
       "2  dfa18f30-eb3b-4704-8c9c-38c276693382 2020-02-25   Davidoff Hot Water EDT M   \n",
       "3  c937fa89-2abb-4c4d-b2dd-3ac7a89cfe07 2020-03-02   Davidoff Hot Water EDT M   \n",
       "4  2c294b1e-232f-43b9-808e-85e7f2aeb4f6 2020-03-31  Davidoff Cool Water EDT M   \n",
       "\n",
       "  master_product_id     subcategory              type  \n",
       "0    DDFHOTM_AEDT10  Men’s perfumes  Eaux de Toilette  \n",
       "1    DDFHOTM_AEDT10  Men’s perfumes  Eaux de Toilette  \n",
       "2    DDFHOTM_AEDT10  Men’s perfumes  Eaux de Toilette  \n",
       "3    DDFHOTM_AEDT10  Men’s perfumes  Eaux de Toilette  \n",
       "4    DDFCWMM_AEDT10  Men’s perfumes  Eaux de Toilette  "
      ]
     },
     "metadata": {},
     "output_type": "display_data"
    },
    {
     "data": {
      "text/markdown": [
       "The number of purchased perfume items is **425,287.**\n"
      ],
      "text/plain": [
       "<IPython.core.display.Markdown object>"
      ]
     },
     "metadata": {},
     "output_type": "display_data"
    },
    {
     "data": {
      "text/markdown": [
       "The number of distinct users is **229,772.**\n"
      ],
      "text/plain": [
       "<IPython.core.display.Markdown object>"
      ]
     },
     "metadata": {},
     "output_type": "display_data"
    },
    {
     "data": {
      "text/markdown": [
       "The number of distinct items is **5,086.**\n"
      ],
      "text/plain": [
       "<IPython.core.display.Markdown object>"
      ]
     },
     "metadata": {},
     "output_type": "display_data"
    }
   ],
   "source": [
    "report(purchases_valid_test)"
   ]
  },
  {
   "cell_type": "markdown",
   "id": "varying-terrorist",
   "metadata": {},
   "source": [
    "Let's further **randomly split users from the joint valid_test purchases dataset to two halves and take only the first half. Then construct the validation set by taking the first 10100 users and the test set using all the remaining users**. As a result, `purchases_valid` and `purchases_test` datasets will be created. The reason why only ~10000 users were used for validation sample is that each iteration of grid search is considerably time-consuming (around 7 minuts per 10K users), so it was chosen primarily for computational reasons."
   ]
  },
  {
   "cell_type": "code",
   "execution_count": 70,
   "id": "choice-budget",
   "metadata": {},
   "outputs": [],
   "source": [
    "all_users_ids = pd.Series(purchases_valid_test.user_id.drop_duplicates().index)\n",
    "valid_test_users_ids = all_users_ids.sample(frac=0.5, random_state=1)\n",
    "\n",
    "valid_users = purchases_valid_test.user_id[valid_test_users_ids[:10100].values]\n",
    "test_users = purchases_valid_test.user_id[valid_test_users_ids[10100:].values]\n",
    "\n",
    "purchases_valid = purchases_valid_test[purchases_valid_test.user_id.isin(valid_users)]\n",
    "purchases_test = purchases_valid_test[purchases_valid_test.user_id.isin(test_users)]"
   ]
  },
  {
   "cell_type": "markdown",
   "id": "connected-eleven",
   "metadata": {},
   "source": [
    "Let's perform **on validation and test purchases datasets** two consecutive technical aggregations due to incorrect distinct values for the same product in columns `master_product_id` and original `product_name`, which was replaced by `product_name_id`. **As a result of these aggregations, the output dataset will store distinct aggregated user-item interactions.**"
   ]
  },
  {
   "cell_type": "code",
   "execution_count": 71,
   "id": "unauthorized-swaziland",
   "metadata": {},
   "outputs": [],
   "source": [
    "purchases_valid_agg_1st = purchases_valid.groupby(\n",
    "    by=['user_id', 'master_product_id', 'subcategory', 'type']).agg(\n",
    "        purchases=('user_id', 'count'),\n",
    "        item_id=('item_id', lambda x: x.str.upper().max()),\n",
    "        first_order=('order_date', min),\n",
    "        last_order=('order_date', max)).reset_index()\n",
    "\n",
    "purchases_valid_agg_2nd = purchases_valid_agg_1st.groupby(\n",
    "    by=['user_id', 'item_id', 'subcategory', 'type']).agg(\n",
    "        purchases=('purchases', sum),\n",
    "        first_order=('first_order', min),\n",
    "        last_order=('last_order', max)).reset_index()\n",
    "\n",
    "purchases_test_agg_1st = purchases_test.groupby(\n",
    "    by=['user_id', 'master_product_id', 'subcategory', 'type']).agg(\n",
    "        purchases=('user_id', 'count'),\n",
    "        item_id=('item_id', lambda x: x.str.upper().max()),\n",
    "        first_order=('order_date', min),\n",
    "        last_order=('order_date', max)).reset_index()\n",
    "\n",
    "purchases_test_agg_2nd = purchases_test_agg_1st.groupby(\n",
    "    by=['user_id', 'item_id', 'subcategory', 'type']).agg(\n",
    "        purchases=('purchases', sum),\n",
    "        first_order=('first_order', min),\n",
    "        last_order=('last_order', max)).reset_index()"
   ]
  },
  {
   "cell_type": "markdown",
   "id": "fifteen-surfing",
   "metadata": {},
   "source": [
    "**Let's check the properties of the aggregated validation dataset:**"
   ]
  },
  {
   "cell_type": "code",
   "execution_count": 72,
   "id": "intelligent-great",
   "metadata": {},
   "outputs": [
    {
     "data": {
      "text/html": [
       "<div>\n",
       "<style scoped>\n",
       "    .dataframe tbody tr th:only-of-type {\n",
       "        vertical-align: middle;\n",
       "    }\n",
       "\n",
       "    .dataframe tbody tr th {\n",
       "        vertical-align: top;\n",
       "    }\n",
       "\n",
       "    .dataframe thead th {\n",
       "        text-align: right;\n",
       "    }\n",
       "</style>\n",
       "<table border=\"1\" class=\"dataframe\">\n",
       "  <thead>\n",
       "    <tr style=\"text-align: right;\">\n",
       "      <th></th>\n",
       "      <th>user_id</th>\n",
       "      <th>item_id</th>\n",
       "      <th>subcategory</th>\n",
       "      <th>type</th>\n",
       "      <th>purchases</th>\n",
       "      <th>first_order</th>\n",
       "      <th>last_order</th>\n",
       "    </tr>\n",
       "  </thead>\n",
       "  <tbody>\n",
       "    <tr>\n",
       "      <th>0</th>\n",
       "      <td>00071d8d-1499-4b40-abd4-3cc6555e2c21</td>\n",
       "      <td>MONTBLANC LEGEND EDT M</td>\n",
       "      <td>Men’s perfumes</td>\n",
       "      <td>Eaux de Toilette</td>\n",
       "      <td>1</td>\n",
       "      <td>2020-01-28</td>\n",
       "      <td>2020-01-28</td>\n",
       "    </tr>\n",
       "    <tr>\n",
       "      <th>1</th>\n",
       "      <td>000aed4c-6b1a-490f-92cf-7300fc493522</td>\n",
       "      <td>BOUCHERON QUATRE EDP W</td>\n",
       "      <td>Women’s perfumes</td>\n",
       "      <td>Eaux de Parfum</td>\n",
       "      <td>1</td>\n",
       "      <td>2020-02-17</td>\n",
       "      <td>2020-02-17</td>\n",
       "    </tr>\n",
       "    <tr>\n",
       "      <th>2</th>\n",
       "      <td>000aed4c-6b1a-490f-92cf-7300fc493522</td>\n",
       "      <td>BVLGARI AQVA POUR HOMME EDT M</td>\n",
       "      <td>Men’s perfumes</td>\n",
       "      <td>Eaux de Toilette</td>\n",
       "      <td>1</td>\n",
       "      <td>2020-02-11</td>\n",
       "      <td>2020-02-11</td>\n",
       "    </tr>\n",
       "    <tr>\n",
       "      <th>3</th>\n",
       "      <td>00130e8e-0047-4f92-bd97-8eb644b0b43d</td>\n",
       "      <td>CHOPARD CAŠMIR EDP W</td>\n",
       "      <td>Women’s perfumes</td>\n",
       "      <td>Eaux de Parfum</td>\n",
       "      <td>1</td>\n",
       "      <td>2020-02-05</td>\n",
       "      <td>2020-02-05</td>\n",
       "    </tr>\n",
       "    <tr>\n",
       "      <th>4</th>\n",
       "      <td>00130e8e-0047-4f92-bd97-8eb644b0b43d</td>\n",
       "      <td>GUCCI GUILTY ABSOLUTE EDP M</td>\n",
       "      <td>Men’s perfumes</td>\n",
       "      <td>Eaux de Parfum</td>\n",
       "      <td>1</td>\n",
       "      <td>2020-01-30</td>\n",
       "      <td>2020-01-30</td>\n",
       "    </tr>\n",
       "  </tbody>\n",
       "</table>\n",
       "</div>"
      ],
      "text/plain": [
       "                                user_id                        item_id  \\\n",
       "0  00071d8d-1499-4b40-abd4-3cc6555e2c21         MONTBLANC LEGEND EDT M   \n",
       "1  000aed4c-6b1a-490f-92cf-7300fc493522         BOUCHERON QUATRE EDP W   \n",
       "2  000aed4c-6b1a-490f-92cf-7300fc493522  BVLGARI AQVA POUR HOMME EDT M   \n",
       "3  00130e8e-0047-4f92-bd97-8eb644b0b43d           CHOPARD CAŠMIR EDP W   \n",
       "4  00130e8e-0047-4f92-bd97-8eb644b0b43d    GUCCI GUILTY ABSOLUTE EDP M   \n",
       "\n",
       "        subcategory              type  purchases first_order last_order  \n",
       "0    Men’s perfumes  Eaux de Toilette          1  2020-01-28 2020-01-28  \n",
       "1  Women’s perfumes    Eaux de Parfum          1  2020-02-17 2020-02-17  \n",
       "2    Men’s perfumes  Eaux de Toilette          1  2020-02-11 2020-02-11  \n",
       "3  Women’s perfumes    Eaux de Parfum          1  2020-02-05 2020-02-05  \n",
       "4    Men’s perfumes    Eaux de Parfum          1  2020-01-30 2020-01-30  "
      ]
     },
     "metadata": {},
     "output_type": "display_data"
    },
    {
     "data": {
      "text/markdown": [
       "The number of aggregated users interactions, i.e. distinct user-item                 pairs, is **16,958.**\n"
      ],
      "text/plain": [
       "<IPython.core.display.Markdown object>"
      ]
     },
     "metadata": {},
     "output_type": "display_data"
    },
    {
     "data": {
      "text/markdown": [
       "The number of users interactions is **18,520.**\n"
      ],
      "text/plain": [
       "<IPython.core.display.Markdown object>"
      ]
     },
     "metadata": {},
     "output_type": "display_data"
    },
    {
     "data": {
      "text/markdown": [
       "The number of distinct users is **10,100.**\n"
      ],
      "text/plain": [
       "<IPython.core.display.Markdown object>"
      ]
     },
     "metadata": {},
     "output_type": "display_data"
    },
    {
     "data": {
      "text/markdown": [
       "The number of distinct items is **2,666.**\n"
      ],
      "text/plain": [
       "<IPython.core.display.Markdown object>"
      ]
     },
     "metadata": {},
     "output_type": "display_data"
    }
   ],
   "source": [
    "valid = purchases_valid_agg_2nd.copy()\n",
    "report(valid)"
   ]
  },
  {
   "cell_type": "markdown",
   "id": "flexible-belle",
   "metadata": {},
   "source": [
    "**Let's check the properties of the aggregated test dataset:**"
   ]
  },
  {
   "cell_type": "code",
   "execution_count": 73,
   "id": "sensitive-elevation",
   "metadata": {},
   "outputs": [
    {
     "data": {
      "text/html": [
       "<div>\n",
       "<style scoped>\n",
       "    .dataframe tbody tr th:only-of-type {\n",
       "        vertical-align: middle;\n",
       "    }\n",
       "\n",
       "    .dataframe tbody tr th {\n",
       "        vertical-align: top;\n",
       "    }\n",
       "\n",
       "    .dataframe thead th {\n",
       "        text-align: right;\n",
       "    }\n",
       "</style>\n",
       "<table border=\"1\" class=\"dataframe\">\n",
       "  <thead>\n",
       "    <tr style=\"text-align: right;\">\n",
       "      <th></th>\n",
       "      <th>user_id</th>\n",
       "      <th>item_id</th>\n",
       "      <th>subcategory</th>\n",
       "      <th>type</th>\n",
       "      <th>purchases</th>\n",
       "      <th>first_order</th>\n",
       "      <th>last_order</th>\n",
       "    </tr>\n",
       "  </thead>\n",
       "  <tbody>\n",
       "    <tr>\n",
       "      <th>0</th>\n",
       "      <td>0000b60a-57be-4bce-a1f3-45dddf3e55e5</td>\n",
       "      <td>PRADA PRADA L'HOMME EDT M</td>\n",
       "      <td>Men’s perfumes</td>\n",
       "      <td>Eaux de Toilette</td>\n",
       "      <td>1</td>\n",
       "      <td>2020-02-06</td>\n",
       "      <td>2020-02-06</td>\n",
       "    </tr>\n",
       "    <tr>\n",
       "      <th>1</th>\n",
       "      <td>0000f5d4-c2d2-433d-8a98-c659439a337c</td>\n",
       "      <td>GIORGIO ARMANI CODE ABSOLU EDP M</td>\n",
       "      <td>Men’s perfumes</td>\n",
       "      <td>Eaux de Parfum</td>\n",
       "      <td>1</td>\n",
       "      <td>2020-01-26</td>\n",
       "      <td>2020-01-26</td>\n",
       "    </tr>\n",
       "    <tr>\n",
       "      <th>2</th>\n",
       "      <td>0000f5d4-c2d2-433d-8a98-c659439a337c</td>\n",
       "      <td>GIVENCHY PÍ EDT M</td>\n",
       "      <td>Men’s perfumes</td>\n",
       "      <td>Eaux de Toilette</td>\n",
       "      <td>1</td>\n",
       "      <td>2020-01-26</td>\n",
       "      <td>2020-01-26</td>\n",
       "    </tr>\n",
       "    <tr>\n",
       "      <th>3</th>\n",
       "      <td>00015adc-127b-4290-8612-9b0974028a3b</td>\n",
       "      <td>CALVIN KLEIN EUPHORIA EDP W</td>\n",
       "      <td>Women’s perfumes</td>\n",
       "      <td>Eaux de Parfum</td>\n",
       "      <td>1</td>\n",
       "      <td>2020-03-20</td>\n",
       "      <td>2020-03-20</td>\n",
       "    </tr>\n",
       "    <tr>\n",
       "      <th>4</th>\n",
       "      <td>00017c74-0cf5-4a88-9b54-b21e54ab5fc4</td>\n",
       "      <td>GIORGIO ARMANI ACQUA DI GIO POUR HOMME EDT M</td>\n",
       "      <td>Men’s perfumes</td>\n",
       "      <td>Eaux de Toilette</td>\n",
       "      <td>2</td>\n",
       "      <td>2020-01-20</td>\n",
       "      <td>2020-01-20</td>\n",
       "    </tr>\n",
       "  </tbody>\n",
       "</table>\n",
       "</div>"
      ],
      "text/plain": [
       "                                user_id  \\\n",
       "0  0000b60a-57be-4bce-a1f3-45dddf3e55e5   \n",
       "1  0000f5d4-c2d2-433d-8a98-c659439a337c   \n",
       "2  0000f5d4-c2d2-433d-8a98-c659439a337c   \n",
       "3  00015adc-127b-4290-8612-9b0974028a3b   \n",
       "4  00017c74-0cf5-4a88-9b54-b21e54ab5fc4   \n",
       "\n",
       "                                        item_id       subcategory  \\\n",
       "0                     PRADA PRADA L'HOMME EDT M    Men’s perfumes   \n",
       "1              GIORGIO ARMANI CODE ABSOLU EDP M    Men’s perfumes   \n",
       "2                             GIVENCHY PÍ EDT M    Men’s perfumes   \n",
       "3                   CALVIN KLEIN EUPHORIA EDP W  Women’s perfumes   \n",
       "4  GIORGIO ARMANI ACQUA DI GIO POUR HOMME EDT M    Men’s perfumes   \n",
       "\n",
       "               type  purchases first_order last_order  \n",
       "0  Eaux de Toilette          1  2020-02-06 2020-02-06  \n",
       "1    Eaux de Parfum          1  2020-01-26 2020-01-26  \n",
       "2  Eaux de Toilette          1  2020-01-26 2020-01-26  \n",
       "3    Eaux de Parfum          1  2020-03-20 2020-03-20  \n",
       "4  Eaux de Toilette          2  2020-01-20 2020-01-20  "
      ]
     },
     "metadata": {},
     "output_type": "display_data"
    },
    {
     "data": {
      "text/markdown": [
       "The number of aggregated users interactions, i.e. distinct user-item                 pairs, is **176,475.**\n"
      ],
      "text/plain": [
       "<IPython.core.display.Markdown object>"
      ]
     },
     "metadata": {},
     "output_type": "display_data"
    },
    {
     "data": {
      "text/markdown": [
       "The number of users interactions is **194,164.**\n"
      ],
      "text/plain": [
       "<IPython.core.display.Markdown object>"
      ]
     },
     "metadata": {},
     "output_type": "display_data"
    },
    {
     "data": {
      "text/markdown": [
       "The number of distinct users is **104,786.**\n"
      ],
      "text/plain": [
       "<IPython.core.display.Markdown object>"
      ]
     },
     "metadata": {},
     "output_type": "display_data"
    },
    {
     "data": {
      "text/markdown": [
       "The number of distinct items is **4,663.**\n"
      ],
      "text/plain": [
       "<IPython.core.display.Markdown object>"
      ]
     },
     "metadata": {},
     "output_type": "display_data"
    }
   ],
   "source": [
    "test = purchases_test_agg_2nd.copy()\n",
    "report(test)"
   ]
  },
  {
   "cell_type": "markdown",
   "id": "trying-swimming",
   "metadata": {},
   "source": [
    "### 1.4 Mappings of user/item string identifiers to integer indices"
   ]
  },
  {
   "cell_type": "markdown",
   "id": "jewish-aviation",
   "metadata": {},
   "source": [
    "First, let's define the mapping functions using integer-based indices for further use as rows and columns identifiers in the matrix factorisation algorithm, by mapping each distinct `user_id` to `user_idx` (and vice versa) and similarly each distinct `item_id` to `item_idx` (and vice versa). **The mapping functions use lists of items and users contained in the training set and apply it on training, validation and test sets.**"
   ]
  },
  {
   "cell_type": "code",
   "execution_count": null,
   "id": "controlling-access",
   "metadata": {},
   "outputs": [],
   "source": [
    "train_items = sorted(train.item_id.unique())\n",
    "train_users = sorted(train.user_id.unique())\n",
    "\n",
    "item_to_idx = {}\n",
    "for (idx, item) in enumerate(train_items):\n",
    "    item_to_idx[item] = idx\n",
    "    \n",
    "user_to_idx = {}\n",
    "for (idx, user) in enumerate(train_users):\n",
    "    user_to_idx[user] = idx\n",
    "    \n",
    "def map_ids(row, mapper: dict):\n",
    "    return mapper.get(row)"
   ]
  },
  {
   "cell_type": "markdown",
   "id": "advance-delicious",
   "metadata": {},
   "source": [
    "Calculate both `user_idx` and `item_idx` as new columns."
   ]
  },
  {
   "cell_type": "code",
   "execution_count": 75,
   "id": "considered-favor",
   "metadata": {},
   "outputs": [],
   "source": [
    "train['user_idx'] = train.user_id.apply(map_ids, mapper=user_to_idx)\n",
    "train['item_idx'] = train.item_id.apply(map_ids, mapper=item_to_idx)\n",
    "\n",
    "valid['user_idx'] = valid.user_id.apply(map_ids, mapper=user_to_idx)\n",
    "valid['item_idx'] = valid.item_id.apply(map_ids, mapper=item_to_idx)\n",
    "\n",
    "test['user_idx'] = test.user_id.apply(map_ids, mapper=user_to_idx)\n",
    "test['item_idx'] = test.item_id.apply(map_ids, mapper=item_to_idx)"
   ]
  },
  {
   "cell_type": "markdown",
   "id": "nonprofit-nitrogen",
   "metadata": {},
   "source": [
    "Since the **validation and test set contain unmapped users that are no longer in the training set** (they were excluded during the cleaning stage when enforcing minimum number of purchases per user and item), **these users were also excluded from the validation and test set** in order for the recommender results evaluated on the validation set to be compatible with training set. Moreover, since the **validation and test set contain also unmapped items that were not purchased during the training set period** (primarily newly-launched products or products purchased by excluded users), **these items were excluded as well**."
   ]
  },
  {
   "cell_type": "code",
   "execution_count": 76,
   "id": "dependent-improvement",
   "metadata": {},
   "outputs": [],
   "source": [
    "valid = valid[~valid.user_idx.isnull()]\n",
    "valid = valid[~valid.item_idx.isnull()]\n",
    "valid = valid.astype({'user_idx': int, 'item_idx': int})\n",
    "\n",
    "test = test[~test.user_idx.isnull()]\n",
    "test = test[~test.item_idx.isnull()]\n",
    "test = test.astype({'user_idx': int, 'item_idx': int})"
   ]
  },
  {
   "cell_type": "markdown",
   "id": "ecological-amino",
   "metadata": {},
   "source": [
    "### 1.5 Validation set statistics"
   ]
  },
  {
   "cell_type": "markdown",
   "id": "hidden-genre",
   "metadata": {},
   "source": [
    "The final validation set statistics are as follows:"
   ]
  },
  {
   "cell_type": "code",
   "execution_count": 77,
   "id": "exempt-bolivia",
   "metadata": {},
   "outputs": [
    {
     "data": {
      "text/html": [
       "<div>\n",
       "<style scoped>\n",
       "    .dataframe tbody tr th:only-of-type {\n",
       "        vertical-align: middle;\n",
       "    }\n",
       "\n",
       "    .dataframe tbody tr th {\n",
       "        vertical-align: top;\n",
       "    }\n",
       "\n",
       "    .dataframe thead th {\n",
       "        text-align: right;\n",
       "    }\n",
       "</style>\n",
       "<table border=\"1\" class=\"dataframe\">\n",
       "  <thead>\n",
       "    <tr style=\"text-align: right;\">\n",
       "      <th></th>\n",
       "      <th>user_id</th>\n",
       "      <th>item_id</th>\n",
       "      <th>subcategory</th>\n",
       "      <th>type</th>\n",
       "      <th>purchases</th>\n",
       "      <th>first_order</th>\n",
       "      <th>last_order</th>\n",
       "      <th>user_idx</th>\n",
       "      <th>item_idx</th>\n",
       "    </tr>\n",
       "  </thead>\n",
       "  <tbody>\n",
       "    <tr>\n",
       "      <th>0</th>\n",
       "      <td>00071d8d-1499-4b40-abd4-3cc6555e2c21</td>\n",
       "      <td>MONTBLANC LEGEND EDT M</td>\n",
       "      <td>Men’s perfumes</td>\n",
       "      <td>Eaux de Toilette</td>\n",
       "      <td>1</td>\n",
       "      <td>2020-01-28</td>\n",
       "      <td>2020-01-28</td>\n",
       "      <td>139</td>\n",
       "      <td>5417</td>\n",
       "    </tr>\n",
       "    <tr>\n",
       "      <th>1</th>\n",
       "      <td>000aed4c-6b1a-490f-92cf-7300fc493522</td>\n",
       "      <td>BOUCHERON QUATRE EDP W</td>\n",
       "      <td>Women’s perfumes</td>\n",
       "      <td>Eaux de Parfum</td>\n",
       "      <td>1</td>\n",
       "      <td>2020-02-17</td>\n",
       "      <td>2020-02-17</td>\n",
       "      <td>206</td>\n",
       "      <td>1263</td>\n",
       "    </tr>\n",
       "    <tr>\n",
       "      <th>2</th>\n",
       "      <td>000aed4c-6b1a-490f-92cf-7300fc493522</td>\n",
       "      <td>BVLGARI AQVA POUR HOMME EDT M</td>\n",
       "      <td>Men’s perfumes</td>\n",
       "      <td>Eaux de Toilette</td>\n",
       "      <td>1</td>\n",
       "      <td>2020-02-11</td>\n",
       "      <td>2020-02-11</td>\n",
       "      <td>206</td>\n",
       "      <td>1370</td>\n",
       "    </tr>\n",
       "    <tr>\n",
       "      <th>3</th>\n",
       "      <td>00130e8e-0047-4f92-bd97-8eb644b0b43d</td>\n",
       "      <td>CHOPARD CAŠMIR EDP W</td>\n",
       "      <td>Women’s perfumes</td>\n",
       "      <td>Eaux de Parfum</td>\n",
       "      <td>1</td>\n",
       "      <td>2020-02-05</td>\n",
       "      <td>2020-02-05</td>\n",
       "      <td>361</td>\n",
       "      <td>1801</td>\n",
       "    </tr>\n",
       "    <tr>\n",
       "      <th>4</th>\n",
       "      <td>00130e8e-0047-4f92-bd97-8eb644b0b43d</td>\n",
       "      <td>GUCCI GUILTY ABSOLUTE EDP M</td>\n",
       "      <td>Men’s perfumes</td>\n",
       "      <td>Eaux de Parfum</td>\n",
       "      <td>1</td>\n",
       "      <td>2020-01-30</td>\n",
       "      <td>2020-01-30</td>\n",
       "      <td>361</td>\n",
       "      <td>3306</td>\n",
       "    </tr>\n",
       "  </tbody>\n",
       "</table>\n",
       "</div>"
      ],
      "text/plain": [
       "                                user_id                        item_id  \\\n",
       "0  00071d8d-1499-4b40-abd4-3cc6555e2c21         MONTBLANC LEGEND EDT M   \n",
       "1  000aed4c-6b1a-490f-92cf-7300fc493522         BOUCHERON QUATRE EDP W   \n",
       "2  000aed4c-6b1a-490f-92cf-7300fc493522  BVLGARI AQVA POUR HOMME EDT M   \n",
       "3  00130e8e-0047-4f92-bd97-8eb644b0b43d           CHOPARD CAŠMIR EDP W   \n",
       "4  00130e8e-0047-4f92-bd97-8eb644b0b43d    GUCCI GUILTY ABSOLUTE EDP M   \n",
       "\n",
       "        subcategory              type  purchases first_order last_order  \\\n",
       "0    Men’s perfumes  Eaux de Toilette          1  2020-01-28 2020-01-28   \n",
       "1  Women’s perfumes    Eaux de Parfum          1  2020-02-17 2020-02-17   \n",
       "2    Men’s perfumes  Eaux de Toilette          1  2020-02-11 2020-02-11   \n",
       "3  Women’s perfumes    Eaux de Parfum          1  2020-02-05 2020-02-05   \n",
       "4    Men’s perfumes    Eaux de Parfum          1  2020-01-30 2020-01-30   \n",
       "\n",
       "   user_idx  item_idx  \n",
       "0       139      5417  \n",
       "1       206      1263  \n",
       "2       206      1370  \n",
       "3       361      1801  \n",
       "4       361      3306  "
      ]
     },
     "metadata": {},
     "output_type": "display_data"
    },
    {
     "data": {
      "text/markdown": [
       "The number of aggregated users interactions, i.e. distinct user-item                 pairs, is **16,650.**\n"
      ],
      "text/plain": [
       "<IPython.core.display.Markdown object>"
      ]
     },
     "metadata": {},
     "output_type": "display_data"
    },
    {
     "data": {
      "text/markdown": [
       "The number of users interactions is **18,189.**\n"
      ],
      "text/plain": [
       "<IPython.core.display.Markdown object>"
      ]
     },
     "metadata": {},
     "output_type": "display_data"
    },
    {
     "data": {
      "text/markdown": [
       "The number of distinct users is **10,005.**\n"
      ],
      "text/plain": [
       "<IPython.core.display.Markdown object>"
      ]
     },
     "metadata": {},
     "output_type": "display_data"
    },
    {
     "data": {
      "text/markdown": [
       "The number of distinct items is **2,549.**\n"
      ],
      "text/plain": [
       "<IPython.core.display.Markdown object>"
      ]
     },
     "metadata": {},
     "output_type": "display_data"
    },
    {
     "data": {
      "text/markdown": [
       "The validation set date range is from **01.01.2020** to **31.03.2020**."
      ],
      "text/plain": [
       "<IPython.core.display.Markdown object>"
      ]
     },
     "execution_count": 77,
     "metadata": {},
     "output_type": "execute_result"
    }
   ],
   "source": [
    "report(valid)\n",
    "md(f\"The validation set date range is from **{valid.first_order.min():%d.%m.%Y}** to **{valid.last_order.max():%d.%m.%Y}**.\")"
   ]
  },
  {
   "cell_type": "markdown",
   "id": "worth-stephen",
   "metadata": {},
   "source": [
    "### 1.5 Test set statistics"
   ]
  },
  {
   "cell_type": "markdown",
   "id": "twenty-first",
   "metadata": {},
   "source": [
    "The final test set statistics are as follows:"
   ]
  },
  {
   "cell_type": "code",
   "execution_count": 79,
   "id": "dangerous-honduras",
   "metadata": {},
   "outputs": [
    {
     "data": {
      "text/html": [
       "<div>\n",
       "<style scoped>\n",
       "    .dataframe tbody tr th:only-of-type {\n",
       "        vertical-align: middle;\n",
       "    }\n",
       "\n",
       "    .dataframe tbody tr th {\n",
       "        vertical-align: top;\n",
       "    }\n",
       "\n",
       "    .dataframe thead th {\n",
       "        text-align: right;\n",
       "    }\n",
       "</style>\n",
       "<table border=\"1\" class=\"dataframe\">\n",
       "  <thead>\n",
       "    <tr style=\"text-align: right;\">\n",
       "      <th></th>\n",
       "      <th>user_id</th>\n",
       "      <th>item_id</th>\n",
       "      <th>subcategory</th>\n",
       "      <th>type</th>\n",
       "      <th>purchases</th>\n",
       "      <th>first_order</th>\n",
       "      <th>last_order</th>\n",
       "      <th>user_idx</th>\n",
       "      <th>item_idx</th>\n",
       "    </tr>\n",
       "  </thead>\n",
       "  <tbody>\n",
       "    <tr>\n",
       "      <th>0</th>\n",
       "      <td>0000b60a-57be-4bce-a1f3-45dddf3e55e5</td>\n",
       "      <td>PRADA PRADA L'HOMME EDT M</td>\n",
       "      <td>Men’s perfumes</td>\n",
       "      <td>Eaux de Toilette</td>\n",
       "      <td>1</td>\n",
       "      <td>2020-02-06</td>\n",
       "      <td>2020-02-06</td>\n",
       "      <td>9</td>\n",
       "      <td>6196</td>\n",
       "    </tr>\n",
       "    <tr>\n",
       "      <th>1</th>\n",
       "      <td>0000f5d4-c2d2-433d-8a98-c659439a337c</td>\n",
       "      <td>GIORGIO ARMANI CODE ABSOLU EDP M</td>\n",
       "      <td>Men’s perfumes</td>\n",
       "      <td>Eaux de Parfum</td>\n",
       "      <td>1</td>\n",
       "      <td>2020-01-26</td>\n",
       "      <td>2020-01-26</td>\n",
       "      <td>15</td>\n",
       "      <td>3113</td>\n",
       "    </tr>\n",
       "    <tr>\n",
       "      <th>2</th>\n",
       "      <td>0000f5d4-c2d2-433d-8a98-c659439a337c</td>\n",
       "      <td>GIVENCHY PÍ EDT M</td>\n",
       "      <td>Men’s perfumes</td>\n",
       "      <td>Eaux de Toilette</td>\n",
       "      <td>1</td>\n",
       "      <td>2020-01-26</td>\n",
       "      <td>2020-01-26</td>\n",
       "      <td>15</td>\n",
       "      <td>3248</td>\n",
       "    </tr>\n",
       "    <tr>\n",
       "      <th>3</th>\n",
       "      <td>00015adc-127b-4290-8612-9b0974028a3b</td>\n",
       "      <td>CALVIN KLEIN EUPHORIA EDP W</td>\n",
       "      <td>Women’s perfumes</td>\n",
       "      <td>Eaux de Parfum</td>\n",
       "      <td>1</td>\n",
       "      <td>2020-03-20</td>\n",
       "      <td>2020-03-20</td>\n",
       "      <td>24</td>\n",
       "      <td>1562</td>\n",
       "    </tr>\n",
       "    <tr>\n",
       "      <th>4</th>\n",
       "      <td>00017c74-0cf5-4a88-9b54-b21e54ab5fc4</td>\n",
       "      <td>GIORGIO ARMANI ACQUA DI GIO POUR HOMME EDT M</td>\n",
       "      <td>Men’s perfumes</td>\n",
       "      <td>Eaux de Toilette</td>\n",
       "      <td>2</td>\n",
       "      <td>2020-01-20</td>\n",
       "      <td>2020-01-20</td>\n",
       "      <td>28</td>\n",
       "      <td>3103</td>\n",
       "    </tr>\n",
       "  </tbody>\n",
       "</table>\n",
       "</div>"
      ],
      "text/plain": [
       "                                user_id  \\\n",
       "0  0000b60a-57be-4bce-a1f3-45dddf3e55e5   \n",
       "1  0000f5d4-c2d2-433d-8a98-c659439a337c   \n",
       "2  0000f5d4-c2d2-433d-8a98-c659439a337c   \n",
       "3  00015adc-127b-4290-8612-9b0974028a3b   \n",
       "4  00017c74-0cf5-4a88-9b54-b21e54ab5fc4   \n",
       "\n",
       "                                        item_id       subcategory  \\\n",
       "0                     PRADA PRADA L'HOMME EDT M    Men’s perfumes   \n",
       "1              GIORGIO ARMANI CODE ABSOLU EDP M    Men’s perfumes   \n",
       "2                             GIVENCHY PÍ EDT M    Men’s perfumes   \n",
       "3                   CALVIN KLEIN EUPHORIA EDP W  Women’s perfumes   \n",
       "4  GIORGIO ARMANI ACQUA DI GIO POUR HOMME EDT M    Men’s perfumes   \n",
       "\n",
       "               type  purchases first_order last_order  user_idx  item_idx  \n",
       "0  Eaux de Toilette          1  2020-02-06 2020-02-06         9      6196  \n",
       "1    Eaux de Parfum          1  2020-01-26 2020-01-26        15      3113  \n",
       "2  Eaux de Toilette          1  2020-01-26 2020-01-26        15      3248  \n",
       "3    Eaux de Parfum          1  2020-03-20 2020-03-20        24      1562  \n",
       "4  Eaux de Toilette          2  2020-01-20 2020-01-20        28      3103  "
      ]
     },
     "metadata": {},
     "output_type": "display_data"
    },
    {
     "data": {
      "text/markdown": [
       "The number of aggregated users interactions, i.e. distinct user-item                 pairs, is **173,280.**\n"
      ],
      "text/plain": [
       "<IPython.core.display.Markdown object>"
      ]
     },
     "metadata": {},
     "output_type": "display_data"
    },
    {
     "data": {
      "text/markdown": [
       "The number of users interactions is **190,659.**\n"
      ],
      "text/plain": [
       "<IPython.core.display.Markdown object>"
      ]
     },
     "metadata": {},
     "output_type": "display_data"
    },
    {
     "data": {
      "text/markdown": [
       "The number of distinct users is **103,768.**\n"
      ],
      "text/plain": [
       "<IPython.core.display.Markdown object>"
      ]
     },
     "metadata": {},
     "output_type": "display_data"
    },
    {
     "data": {
      "text/markdown": [
       "The number of distinct items is **4,371.**\n"
      ],
      "text/plain": [
       "<IPython.core.display.Markdown object>"
      ]
     },
     "metadata": {},
     "output_type": "display_data"
    },
    {
     "data": {
      "text/markdown": [
       "The test set date range is from **01.01.2020** to **31.03.2020**."
      ],
      "text/plain": [
       "<IPython.core.display.Markdown object>"
      ]
     },
     "execution_count": 79,
     "metadata": {},
     "output_type": "execute_result"
    }
   ],
   "source": [
    "report(test)\n",
    "md(f\"The test set date range is from **{test.first_order.min():%d.%m.%Y}** to **{test.last_order.max():%d.%m.%Y}**.\")"
   ]
  },
  {
   "cell_type": "markdown",
   "id": "distributed-particle",
   "metadata": {},
   "source": [
    "### 1.6 Dump training, validation and test sets into HDF5 files"
   ]
  },
  {
   "cell_type": "code",
   "execution_count": 107,
   "id": "rising-circulation",
   "metadata": {},
   "outputs": [],
   "source": [
    "dump_df_to_hdf5(train, valid, test, dirpath='./data/hdf5/rec', names=['train', 'valid', 'test'])"
   ]
  },
  {
   "cell_type": "markdown",
   "id": "imposed-angel",
   "metadata": {},
   "source": [
    "### 1.7 Load training, validation and test sets from HDF5 files"
   ]
  },
  {
   "cell_type": "code",
   "execution_count": 224,
   "id": "pressed-static",
   "metadata": {},
   "outputs": [
    {
     "name": "stdout",
     "output_type": "stream",
     "text": [
      "TRAIN SET: 5,084,851\n",
      "VALID SET: 16,650\n",
      "TEST SET:  173,280\n"
     ]
    }
   ],
   "source": [
    "train, valid, test = load_df_from_hdf5(dirpath='./data/hdf5/rec', names=['train', 'valid', 'test'])\n",
    "    \n",
    "print(f'TRAIN SET: {len(train):,.0f}')\n",
    "print(f'VALID SET: {len(valid):,.0f}')\n",
    "print(f'TEST SET:  {len(test):,.0f}')"
   ]
  },
  {
   "cell_type": "markdown",
   "id": "central-miller",
   "metadata": {},
   "source": [
    "## 2. Latent factor model (ALS algorithm)"
   ]
  },
  {
   "cell_type": "markdown",
   "id": "worse-affairs",
   "metadata": {},
   "source": [
    "### 2.1 Popularity-based baseline model"
   ]
  },
  {
   "cell_type": "markdown",
   "id": "forward-speaker",
   "metadata": {},
   "source": [
    "First, let's **calculate items popularity ranking** based on the number of purchases in the training set. This non-personalised popularity-based recommendation model, using as the top recommended items the most popular ones, will be used as a baseline for comparison with our latent factor model."
   ]
  },
  {
   "cell_type": "code",
   "execution_count": 226,
   "id": "alternative-still",
   "metadata": {},
   "outputs": [
    {
     "data": {
      "text/html": [
       "<style  type=\"text/css\" >\n",
       "</style><table id=\"T_69476_\" ><thead>    <tr>        <th class=\"blank level0\" ></th>        <th class=\"col_heading level0 col0\" >item_idx</th>        <th class=\"col_heading level0 col1\" >purchases</th>        <th class=\"col_heading level0 col2\" >rank_pct_pop</th>        <th class=\"col_heading level0 col3\" >rank_pop</th>    </tr></thead><tbody>\n",
       "                <tr>\n",
       "                        <th id=\"T_69476_level0_row0\" class=\"row_heading level0 row0\" >1562</th>\n",
       "                        <td id=\"T_69476_row0_col0\" class=\"data row0 col0\" >1562</td>\n",
       "                        <td id=\"T_69476_row0_col1\" class=\"data row0 col1\" >128083</td>\n",
       "                        <td id=\"T_69476_row0_col2\" class=\"data row0 col2\" >0.000132</td>\n",
       "                        <td id=\"T_69476_row0_col3\" class=\"data row0 col3\" >1</td>\n",
       "            </tr>\n",
       "            <tr>\n",
       "                        <th id=\"T_69476_level0_row1\" class=\"row_heading level0 row1\" >3586</th>\n",
       "                        <td id=\"T_69476_row1_col0\" class=\"data row1 col0\" >3586</td>\n",
       "                        <td id=\"T_69476_row1_col1\" class=\"data row1 col1\" >103227</td>\n",
       "                        <td id=\"T_69476_row1_col2\" class=\"data row1 col2\" >0.000265</td>\n",
       "                        <td id=\"T_69476_row1_col3\" class=\"data row1 col3\" >2</td>\n",
       "            </tr>\n",
       "            <tr>\n",
       "                        <th id=\"T_69476_level0_row2\" class=\"row_heading level0 row2\" >1548</th>\n",
       "                        <td id=\"T_69476_row2_col0\" class=\"data row2 col0\" >1548</td>\n",
       "                        <td id=\"T_69476_row2_col1\" class=\"data row2 col1\" >77333</td>\n",
       "                        <td id=\"T_69476_row2_col2\" class=\"data row2 col2\" >0.000397</td>\n",
       "                        <td id=\"T_69476_row2_col3\" class=\"data row2 col3\" >3</td>\n",
       "            </tr>\n",
       "            <tr>\n",
       "                        <th id=\"T_69476_level0_row3\" class=\"row_heading level0 row3\" >1782</th>\n",
       "                        <td id=\"T_69476_row3_col0\" class=\"data row3 col0\" >1782</td>\n",
       "                        <td id=\"T_69476_row3_col1\" class=\"data row3 col1\" >73975</td>\n",
       "                        <td id=\"T_69476_row3_col2\" class=\"data row3 col2\" >0.000529</td>\n",
       "                        <td id=\"T_69476_row3_col3\" class=\"data row3 col3\" >4</td>\n",
       "            </tr>\n",
       "            <tr>\n",
       "                        <th id=\"T_69476_level0_row4\" class=\"row_heading level0 row4\" >4628</th>\n",
       "                        <td id=\"T_69476_row4_col0\" class=\"data row4 col0\" >4628</td>\n",
       "                        <td id=\"T_69476_row4_col1\" class=\"data row4 col1\" >73071</td>\n",
       "                        <td id=\"T_69476_row4_col2\" class=\"data row4 col2\" >0.000661</td>\n",
       "                        <td id=\"T_69476_row4_col3\" class=\"data row4 col3\" >5</td>\n",
       "            </tr>\n",
       "    </tbody></table>"
      ],
      "text/plain": [
       "<pandas.io.formats.style.Styler at 0x7f573f0f2e80>"
      ]
     },
     "execution_count": 226,
     "metadata": {},
     "output_type": "execute_result"
    }
   ],
   "source": [
    "items_pop = get_item_popularity(train)\n",
    "items_pop.head().style"
   ]
  },
  {
   "cell_type": "markdown",
   "id": "abstract-receptor",
   "metadata": {},
   "source": [
    "### 2.2 Item-oriented neighborhood-based baseline model "
   ]
  },
  {
   "cell_type": "markdown",
   "id": "funny-dominant",
   "metadata": {},
   "source": [
    "The second baseline model used for comparison purposes will be the item-oriented neighborhood-based model (analogue of the k-nearest neighbors). This model will use the **cosine similarity measure**, and will predict the preference $\\hat p_{ui}$ of user $u$ for item $i$, by **calculating a dot product of the vector of similarities between item $i$ and all items $j$ that user $u$ has purchased and the vector of respective purchases** $r_{uj}$ of these items: $$\\hat p_{ui} = \\sum_{j} s_{ij}r_{uj},$$ where $$s_{ij} = \\frac{r_{i}^Tr_j}{\\Vert r_i \\Vert \\Vert r_j \\Vert}$$ is the similarity between items $i$ and $j$, and $r_i \\in \\mathcal{R}^m$ contains $r_{ui}$ values for each all $m$ users. The item-item cosine similarities are calculated using the `surprise` library and the baseline model is inspired by the research paper mentioned below."
   ]
  },
  {
   "cell_type": "code",
   "execution_count": 18,
   "id": "sensitive-dylan",
   "metadata": {},
   "outputs": [],
   "source": [
    "train_Sij = get_item_cosine_similarity(train)"
   ]
  },
  {
   "cell_type": "markdown",
   "id": "innocent-collect",
   "metadata": {},
   "source": [
    "### 2.3 Fitting the latent factor model"
   ]
  },
  {
   "cell_type": "markdown",
   "id": "violent-immunology",
   "metadata": {},
   "source": [
    "The predicted users preferences of items will be calculated with frequently used **Alternating Least Squares (ALS) approximate matrix factorisation** algorithm implemented within an open-source Github repository called [implicit](https://github.com/benfred/implicit) dedicated to building implicit feedback recommender systems. The documentation of the library is available [here](https://implicit.readthedocs.io/en/latest/). **The first step prior to fitting the model is to create training-set confidence matrix $C_{iu}$ based on the raw interactions matrix $R_{iu}$ representing the number of user/item interactions (i.e. purchases).** One of the possible transformations designed for calculating $C_{iu}$ from $R_{iu}$ is $C_{iu} = 1 + R_{iu} \\times \\alpha$, where $\\alpha$ is a positive integer around 40. Both of these matrices are sparse matrices of type `scipy.sparse.csr_matrix`. The confidence matrix $C_{iu}$ will then be used as an input to the ALS algorithm. The detailed description of the algorithm, e.g. construction of the confidence matrix $C_{iu}$ and other specifics, is provided in the following [research paper](http://yifanhu.net/PUB/cf.pdf). \n",
    "\n",
    "The initialization and actual fitting of the latent factor model using ALS algorithm is performed using the appropriate values for hyperparameters `factors`, `regularization`, `iterations`, and `alpha`. **After calling the fit method, the $m \\times f$ matrix $X$ of `user_factors` and $n \\times f$ matrix $Y$ of `item_factors` will be calculated as an output of the latent factor model.**"
   ]
  },
  {
   "cell_type": "markdown",
   "id": "suspended-prediction",
   "metadata": {},
   "source": [
    "### 2.4 Grid search for optimal hyperparameters on validation set using evaluation metrics calculated on predicted preferences"
   ]
  },
  {
   "cell_type": "markdown",
   "id": "pressed-california",
   "metadata": {},
   "source": [
    "Since there are four hyperparameters to optimize, we decided to search for the optimal combination of values using the grid search methodology. It means that the model fitting procedure will be performed on training set on multiple combinations of hyperparameters and each combination will be evaluated on validation set using two metrics based on the predicted preferences $\\hat p_{ui}$. **Predicted preferences $\\hat p_{ui} = x_u^Ty_i$ are components of vectors $\\hat p_u$ representing for user $u$ its estimated preferences for each item $i$ (which was not purchased in the training set by default). These preferences are calculated using fitted user and item latent factors.** \n",
    "\n",
    "**The first evaluation metric** calculated to assess the model performance on validation set is a generalistic metric proposed by the above mentioned research paper. It's called `mean percentile ranking` (`MPR`) of predicted items induced by the model. It is calculated using the formula below, where $r_{ui}^t$ is the validation set interaction of user $u$ with item $i$, i.e. number of purchases of **item i, which was not purchased in the training set (new purchases)** and $rank_{ui}$ is its percentile ranking within the list of predicted items (0% means the top of the list, 100% means the bottom of the list).\n",
    "$$MPR = \\overline{rank} = \\frac{\\sum_{u,i}r_{ui}^t\\times rank_{ui}}{\\sum_{u,i}r_{ui}^t}$$\n",
    "\n",
    "**The second evaluation metric** is specifically tailored to the Notino use case, based on the well-known `recall` measure. The `mean recall at N` (`MRN`), is calculated as a ratio of the sum of count of distinct user-items found in the TOP-N recommendations that were actually purchased during the validation period, divided by the sum of count of all distinct items purchased within the validation period that could be recommended (i.e. excluding items purchased in the training set).\n",
    "\n",
    "$$MRN = \\frac{\\sum_{ui} r_{ui, count}^{t, topN}}{\\sum_{ui}r_{ui,  count}^t}$$\n",
    "\n",
    "Both metric will be calculated for popularity-based and neighborhood-based baseline models as well as for the latent factor model. "
   ]
  },
  {
   "cell_type": "code",
   "execution_count": 185,
   "id": "former-norfolk",
   "metadata": {},
   "outputs": [
    {
     "name": "stdout",
     "output_type": "stream",
     "text": [
      "+------------+------------+------------+------------+------------+------------+------------+------------+------------+------------+------------+------------+------------+\n",
      "|   users    |  factors   |   lambda   |   alpha    | MPR [Fac]  | MPR [Pop]  | MPR [Knn]  | Rui Count  |  Rui Sum   |     N      | MRN [Fac]  | MRN [Pop]  | MRN [Knn]  |\n",
      "+============+============+============+============+============+============+============+============+============+============+============+============+============+\n",
      "|   10005    |    250     |    2400    |    120     |  8.5683%   |  10.4856%  |  11.5774%  |   10810    |   11548    |     3      |  5.2359%   |  3.0065%   |  0.6846%   |\n",
      "+------------+------------+------------+------------+------------+------------+------------+------------+------------+------------+------------+------------+------------+\n",
      "Time elapsed: 32.74 minutes.\n"
     ]
    }
   ],
   "source": [
    "pPui = grid_search_als_latent_factor(train=train, \n",
    "                                     valid=valid, \n",
    "                                     train_Sij=train_Sij, \n",
    "                                     factors=[250], \n",
    "                                     regularizations=[2400], \n",
    "                                     alphas=[120], \n",
    "                                     iterations=20, \n",
    "                                     N=3)"
   ]
  },
  {
   "cell_type": "code",
   "execution_count": null,
   "id": "animal-manual",
   "metadata": {},
   "outputs": [],
   "source": [
    "# Try also user-specific brand-based popularity recommendation as alternative to general popularity\n",
    "# Try slicing validation set into user bins (frequent buyers) or item bins (frequently purchased items) or gender"
   ]
  },
  {
   "cell_type": "markdown",
   "id": "corrected-brunswick",
   "metadata": {},
   "source": [
    "### 2.5 Testing the final model on test set "
   ]
  },
  {
   "cell_type": "markdown",
   "id": "round-stockholm",
   "metadata": {},
   "source": [
    "Let's **initialize and fit on the training set the latent factor model using ALS algorithm with the optimal values for `factors`, `regularization`, `alpha` and `iterations` hyperparameters**. Then, we will predict top $N=3$ recommendations for each user in the test for products which were not purchased by the user in the training set. Finally we will add the recommendations to the test set dataframe as new columns, along with binary indicator columns `item_not_in_train` and `item_in_topN`. The evaluation metrics will also be calculated and presented."
   ]
  },
  {
   "cell_type": "markdown",
   "id": "residential-environment",
   "metadata": {},
   "source": [
    "#### 2.5.1 Fitting the final model"
   ]
  },
  {
   "cell_type": "code",
   "execution_count": 116,
   "id": "directed-butterfly",
   "metadata": {},
   "outputs": [
    {
     "name": "stderr",
     "output_type": "stream",
     "text": [
      "WARNING:root:OpenBLAS detected. Its highly recommend to set the environment variable 'export OPENBLAS_NUM_THREADS=1' to disable its internal multithreading\n"
     ]
    }
   ],
   "source": [
    "mod_als = fit_als_latent_factor(train=train, \n",
    "                                alpha=120, \n",
    "                                factors=250, \n",
    "                                regularization=2400,\n",
    "                                iterations=20)"
   ]
  },
  {
   "cell_type": "markdown",
   "id": "prompt-makeup",
   "metadata": {},
   "source": [
    "#### 2.5.2 Predicting users preferences and scoring the test set"
   ]
  },
  {
   "cell_type": "code",
   "execution_count": 217,
   "id": "boolean-heart",
   "metadata": {},
   "outputs": [
    {
     "name": "stdout",
     "output_type": "stream",
     "text": [
      "+------------+------------+------------+------------+------------+------------+------------+------------+------------+------------+------------+------------+------------+\n",
      "|   users    |  factors   |   lambda   |   alpha    | MPR [Fac]  | MPR [Pop]  | MPR [Knn]  | Rui Count  |  Rui Sum   |     N      | MRN [Fac]  | MRN [Pop]  | MRN [Knn]  |\n",
      "+============+============+============+============+============+============+============+============+============+============+============+============+============+\n",
      "|   103768   |    250     |    2400    |    120     |  8.6714%   |  10.5154%  |  11.4808%  |   111597   |   120412   |     3      |  4.9508%   |  2.5951%   |  0.6676%   |\n",
      "+------------+------------+------------+------------+------------+------------+------------+------------+------------+------------+------------+------------+------------+\n",
      "Time elapsed: 257.67 minutes.\n"
     ]
    }
   ],
   "source": [
    "test_scored = fit_predict_score_als_latent_factor(train=train, \n",
    "                                                  test=test, \n",
    "                                                  factors=250,\n",
    "                                                  regularization=2400, \n",
    "                                                  iterations=20, \n",
    "                                                  alpha=120, \n",
    "                                                  N=3,\n",
    "                                                  K=3,\n",
    "                                                  mod_als=mod_als,\n",
    "                                                  explain=False)"
   ]
  },
  {
   "cell_type": "markdown",
   "id": "sunset-sound",
   "metadata": {},
   "source": [
    "#### 2.5.3 Dumping the scored test set into HDF5 file and MS Excel "
   ]
  },
  {
   "cell_type": "code",
   "execution_count": 221,
   "id": "alive-soldier",
   "metadata": {},
   "outputs": [],
   "source": [
    "test_scored.to_excel('../output/recommender_perfume_test_scored.xlsx', index=False)\n",
    "dump_df_to_hdf5(test_scored, dirpath='./data/hdf5/rec', names=['test_scored'])"
   ]
  },
  {
   "cell_type": "markdown",
   "id": "dirty-filing",
   "metadata": {},
   "source": [
    "### 2.6 Analysis on scored test set"
   ]
  },
  {
   "cell_type": "code",
   "execution_count": 111,
   "id": "limited-guatemala",
   "metadata": {},
   "outputs": [
    {
     "name": "stdout",
     "output_type": "stream",
     "text": [
      "TEST SCORED SET: 173,280\n"
     ]
    }
   ],
   "source": [
    "test_scored = load_df_from_hdf5(dirpath='./data/hdf5/rec', names=['test_scored'])\n",
    "print(f'TEST SCORED SET: {len(test_scored):,.0f}')"
   ]
  },
  {
   "cell_type": "markdown",
   "id": "seventh-literacy",
   "metadata": {},
   "source": [
    "## 3. Export to HTML"
   ]
  },
  {
   "cell_type": "code",
   "execution_count": null,
   "id": "parallel-payment",
   "metadata": {},
   "outputs": [],
   "source": [
    "test_scored[:10]"
   ]
  },
  {
   "cell_type": "code",
   "execution_count": 90,
   "id": "static-breast",
   "metadata": {},
   "outputs": [],
   "source": [
    "os.system('jupyter nbconvert campaigns_recommender_perfume.ipynb \\\n",
    "          --output ../output/campaigns_recommender_perfume \\\n",
    "          --to html \\\n",
    "          --no-input \\\n",
    "          --no-prompt \\\n",
    "          --SlidesExporter.reveal_transition=fade');"
   ]
  },
  {
   "cell_type": "code",
   "execution_count": null,
   "id": "uniform-concrete",
   "metadata": {
    "jupyter": {
     "source_hidden": true
    },
    "slideshow": {
     "slide_type": "skip"
    },
    "tags": []
   },
   "outputs": [],
   "source": [
    "# from scipy.sparse import csc_matrix, coo_matrix\n",
    "# from scipy.sparse.linalg import svds, eigs\n",
    "\n",
    "# A = np.array([[1, 0, 0], [5, 0, 2], [0, -1, 0], [0, 0, 3]], dtype=float)\n",
    "# print('A:\\n', A)\n",
    "# u, s, vt = svds(A, k=2, which='LM')\n",
    "# u, s, vt\n",
    "\n",
    "# u*np.sqrt(s) @ (vt * np.sqrt(s)[:, np.newaxis])\n",
    "# u @ np.diag(s) @ vt\n",
    "\n",
    "# A = np.array([[1, 0, 0], [5, 0, 2], [0, -1, 0], [0, 0, 3]], dtype=float)\n",
    "# U, S, VT = np.linalg.svd(A)\n",
    "# U, S, VT\n",
    "\n",
    "# norms = np.linalg.norm(u, axis=-1)\n",
    "# u, norms[:, np.newaxis]\n",
    "\n",
    "# X = np.array([[4, 1, 3], [8, 3, -2]], dtype=float)\n",
    "# artist_factors, _, user_factors = np.linalg.svd(X)\n",
    "# artist_factors[:, :1]\n",
    "# user_factors\n",
    "\n",
    "# user = valid_users.values[6]\n",
    "# user_Pui = pd.DataFrame(valid_Pui[user], columns=['item_idx', 'Pui'])\n",
    "# user_Pui['rank'] = user_Pui['Pui'].rank(method='average', ascending=False).astype(int)\n",
    "# user_Pui['rank_pct'] = user_Pui['Pui'].rank(method='average', ascending=False, pct=True)\n",
    "# user_Pui['user_idx'] = user\n",
    "# user_Pui['valid_Rui'] = user_Pui.merge(valid[valid.user_idx == user], how='left', on='item_idx')['purchases']\n",
    "# user_Pui['rank_pct_valid_Rui'] = user_Pui['rank_pct'] * user_Pui['valid_Rui']\n",
    "# user_Pui[~user_Pui.valid_Rui.isnull()].style.format({'rank_pct_valid_Rui': '{:,.9f}'})\n",
    "\n",
    "# a = time.time()\n",
    "# n_items = 1000 # len(train.item_idx.drop_duplicates())\n",
    "# train_Sij = np.full((n_items, n_items), None)\n",
    "# data = train[['user_idx', 'item_idx', 'purchases']]\n",
    "\n",
    "# for x, (i, j) in enumerate(combinations(range(n_items), 2)):\n",
    "#     users_i = data[data.item_idx == i]\n",
    "#     users_j = data[data.item_idx == j]\n",
    "#     users_ij = users_i.merge(users_j, how='inner', on='user_idx')\n",
    "#     users_ij['ri_rj'] = users_ij.purchases_x * users_ij.purchases_y\n",
    "#     train_Sij[i, j] = users_ij.ri_rj.sum() / (np.sqrt(sum(users_i['purchases'] ** 2)) * np.sqrt(sum(users_j['purchases'] ** 2)))\n",
    "#     if x % 1000 == 0:\n",
    "#         print(x)\n",
    "\n",
    "# print(f'Time elapsed: {time.time() - a:,.2f} seconds / {(time.time() - a)/60:,.2f} minutes.')\n",
    "\n",
    "#train_Sij[np.ix_(user_pPui.item_idx, user_Rui.item_idx)] \n",
    "\n",
    "#   pPui[user] = mod_als.recommend(user, train_Rui, N=7561, filter_already_liked_items=True)\n",
    "#     # Percentile-ranking of predicted items within the ordered list of predicted preferences Pui\n",
    "#     user_pPui = pd.DataFrame(pPui[user], columns=['item_idx', 'pPui'])\n",
    "#     user_pPui['rank_pct_fac'] = user_pPui['pPui'].rank(method='average', ascending=False, pct=True)\n",
    "    \n",
    "#     # Popularity-ranking of items (excluding already purchased items in training set)\n",
    "#     user_pPui['rank_pct_pop'] = user_pPui.merge(items_pop, how='left', on='item_idx')['rank_pct_pop']    \n",
    "#     user_pPui['Rui'] = user_pPui.merge(valid[valid.user_idx == user], how='left', on='item_idx')['purchases']\n",
    "    \n",
    "#     user_pPui['Rui_rank_pct_fac'] = user_pPui['Rui'] * user_pPui['rank_pct_fac']\n",
    "#     user_pPui['Rui_rank_pct_pop'] = user_pPui['Rui'] * user_pPui['rank_pct_pop']\n",
    "#     Rui_rank_pct_fac += user_pPui.Rui_rank_pct_fac.sum()\n",
    "#     Rui_rank_pct_pop += user_pPui.Rui_rank_pct_pop.sum()\n",
    "#     Rui += user_pPui.Rui.sum()\n",
    "\n",
    "\n",
    "# pPui[user] = model.recommend(userid=0, user_items=train_Rui, N=7561, filter_already_liked_items=True)\n",
    "# # Percentile-ranking of predicted items within the ordered list of predicted preferences Pui\n",
    "# user_pPui = pd.DataFrame(pPui[user], columns=['item_idx', 'pPui_fac'])\n",
    "# user_pPui['rank_pct_fac'] = user_pPui['pPui_fac'].rank(method='average', ascending=False, pct=True)\n",
    "# # Popularity-ranking of items \n",
    "# user_pPui['rank_pct_pop'] = user_pPui.merge(items_pop, how='left', on='item_idx')['rank_pct_pop']    \n",
    "# # Item-item neighboorhood-based ranking model \n",
    "# user_pPui['pPui_knn'] = train_Sij[np.ix_(user_pPui.item_idx, \n",
    "#                                           train[train.user_idx == user].item_idx\n",
    "#                                          )].dot(train[train.user_idx == user].purchases)\n",
    "# user_pPui['rank_pct_knn'] = user_pPui['pPui_knn'].rank(method='average', ascending=False, pct=True)\n",
    "\n",
    "# # Mean percentile ranking of all three models\n",
    "# user_pPui['Rui'] = user_pPui.merge(valid[valid.user_idx == user], how='left', on='item_idx')['purchases']\n",
    "# user_pPui['Rui_rank_pct_fac'] = user_pPui['Rui'] * user_pPui['rank_pct_fac']\n",
    "# user_pPui['Rui_rank_pct_pop'] = user_pPui['Rui'] * user_pPui['rank_pct_pop']\n",
    "# user_pPui['Rui_rank_pct_knn'] = user_pPui['Rui'] * user_pPui['rank_pct_knn']\n",
    "# Rui_rank_pct_fac += user_pPui.Rui_rank_pct_fac.sum()\n",
    "# Rui_rank_pct_pop += user_pPui.Rui_rank_pct_pop.sum()\n",
    "# Rui_rank_pct_knn += user_pPui.Rui_rank_pct_knn.sum()\n",
    "# Rui += user_pPui.Rui.sum()\n",
    "\n",
    "#             print(f'\\n')\n",
    "#             print(f'Mean Percentile Ranking [Factor]: {MPR_fac:,.4f}')\n",
    "#             print(f'Mean Percentile Ranking [Popularity]: {MPR_pop:,.4f}')\n",
    "#             print(f'Mean Percentile Ranking [Neighborhood]: {MPR_knn:,.4f}')\n",
    "#             print(f'Time elapsed: {time.time() - a:,.2f} seconds / {(time.time() - a)/60:,.2f} minutes.')\n",
    "\n",
    "# def grid_search_als_latent_factor(factors=[150], regularizations=[6000, 7000, 8000], \n",
    "#                                  iterations=20, chunk=10000, n_chunks=5):\n",
    "#     n_users = min(chunk * n_chunks, len(valid_users))\n",
    "#     row = ['users', 'factors', 'regularization', 'alpha', 'MPR [Factor]', 'MPR [Popularity]', 'MPR [Neighborhood]', 'Rui']\n",
    "#     print_log(row, header=True, spacing=20)\n",
    "        \n",
    "#     for factor in factors:\n",
    "#         for regularization in regularizations:\n",
    "#            # print(f'ALS algorithm: factors={factor}, regularization={regularization}, iterations={iterations}')\n",
    "#             mod_als = implicit.als.AlternatingLeastSquares(factors=factor, regularization=regularization, \n",
    "#                                                            iterations=iterations, random_state=1,\n",
    "#                                                            use_cg=True, use_native=True, num_threads=0)\n",
    "#             mod_als.fit(train_Ciu, show_progress=False)\n",
    "\n",
    "#             pPui = {}\n",
    "#             Rui = 0\n",
    "#             Rui_rank_pct_fac = 0\n",
    "#             Rui_rank_pct_pop = 0\n",
    "#             Rui_rank_pct_knn = 0\n",
    "\n",
    "#             # Percentile-ranking of items within the ordered list of predicted preferences Pui for three models for each user\n",
    "#             # a = time.time()\n",
    "#             for i in range(n_chunks):\n",
    "#                 print(i)\n",
    "#                 for user in valid_users[i*chunk:(i+1)*chunk]:    \n",
    "#                     pPui[user] = mod_als.recommend(userid=user, user_items=train_Rui, N=7561, filter_already_liked_items=True)\n",
    "\n",
    "#                     # Latent factor model-based ranking of predicted items \n",
    "#                     user_pPui = pd.DataFrame(pPui[user], columns=['item_idx', 'pPui_fac'])\n",
    "#                     user_pPui['rank_pct_fac'] = user_pPui['pPui_fac'].rank(method='average', ascending=False, pct=True)\n",
    "\n",
    "#                     # Popularity-based ranking\n",
    "#                     user_pPui['rank_pct_pop'] = user_pPui.merge(items_pop, how='left', on='item_idx')['rank_pct_pop']    \n",
    "\n",
    "#                     # Item-item neighboorhood-based ranking\n",
    "#                     user_pPui['pPui_knn'] = train_Sij[np.ix_(user_pPui.item_idx, \n",
    "#                                                               train[train.user_idx == user].item_idx\n",
    "#                                                              )].dot(train[train.user_idx == user].purchases)\n",
    "#                     user_pPui['rank_pct_knn'] = user_pPui['pPui_knn'].rank(method='average', ascending=False, pct=True)\n",
    "\n",
    "#                     # Mean percentile ranking of all three models\n",
    "#                     user_pPui['Rui'] = user_pPui.merge(valid[valid.user_idx == user], how='left', on='item_idx')['purchases']\n",
    "#                     user_pPui['Rui_rank_pct_fac'] = user_pPui['Rui'] * user_pPui['rank_pct_fac']\n",
    "#                     user_pPui['Rui_rank_pct_pop'] = user_pPui['Rui'] * user_pPui['rank_pct_pop']\n",
    "#                     user_pPui['Rui_rank_pct_knn'] = user_pPui['Rui'] * user_pPui['rank_pct_knn']\n",
    "#                     Rui_rank_pct_fac += user_pPui.Rui_rank_pct_fac.sum()\n",
    "#                     Rui_rank_pct_pop += user_pPui.Rui_rank_pct_pop.sum()\n",
    "#                     Rui_rank_pct_knn += user_pPui.Rui_rank_pct_knn.sum()\n",
    "#                     Rui += user_pPui.Rui.sum()    \n",
    "\n",
    "#                     pPui[user] = [i[0] for i in pPui[user][:10]]\n",
    "#                     del user_pPui\n",
    "\n",
    "#             MPR_fac = Rui_rank_pct_fac/Rui\n",
    "#             MPR_pop = Rui_rank_pct_pop/Rui\n",
    "#             MPR_knn = Rui_rank_pct_knn/Rui\n",
    "#             row = [n_users, factor, regularization, alpha, MPR_fac, MPR_pop, MPR_knn, int(Rui)]\n",
    "#             print_log(row, header=False, spacing=20)\n",
    "#     return pPui       \n",
    "\n",
    "# mod_als = implicit.als.AlternatingLeastSquares(factors=150, regularization=2100, \n",
    "#                                                iterations=20, random_state=1,\n",
    "#                                                use_cg=True, use_native=True, num_threads=0,\n",
    "#                                                use_gpu=False)\n",
    "# mod_als.fit(train_Ciu, show_progress=False)\n",
    "\n",
    "# user = 10  # [10, 11, 24, 28, 36, 38, 51, 58, 66, 70]\n",
    "# N = 5\n",
    "# pPui = {}\n",
    "# Rui = 0\n",
    "# Rui_count = 0\n",
    "# Rui_count_in_topN_pPui_fac = 0\n",
    "# Rui_count_in_topN_pPui_pop = 0\n",
    "# Rui_count_in_topN_pPui_knn = 0\n",
    "# Rui_rank_pct_fac = 0\n",
    "# Rui_rank_pct_pop = 0\n",
    "# Rui_rank_pct_knn = 0\n",
    "\n",
    "# pPui[user] = mod_als.recommend(userid=user, user_items=train_Rui, N=7561, filter_already_liked_items=True)\n",
    "\n",
    "# # Latent factor model-based ranking of predicted items \n",
    "# user_pPui = pd.DataFrame(pPui[user], columns=['item_idx', 'pPui_fac'])\n",
    "# user_pPui['rank_pct_fac'] = user_pPui['pPui_fac'].rank(method='average', ascending=False, pct=True)\n",
    "# user_pPui['rank_fac'] = user_pPui['pPui_fac'].rank(method='average', ascending=False).astype(int)\n",
    "\n",
    "# # Popularity-based ranking\n",
    "# user_pPui['rank_pct_pop'] = user_pPui.merge(items_pop, how='left', on='item_idx')['rank_pct_pop']   \n",
    "# user_pPui['rank_pop'] = user_pPui.merge(items_pop, how='left', on='item_idx')['rank_pop']  \n",
    "\n",
    "# # Item-item neighboorhood-based ranking\n",
    "# user_pPui['pPui_knn'] = train_Sij[np.ix_(user_pPui.item_idx, \n",
    "#                                           train[train.user_idx == user].item_idx\n",
    "#                                          )].dot(train[train.user_idx == user].purchases)\n",
    "# user_pPui['rank_pct_knn'] = user_pPui['pPui_knn'].rank(method='average', ascending=False, pct=True)\n",
    "# user_pPui['rank_knn'] = user_pPui['pPui_knn'].rank(method='average', ascending=False).astype(int)\n",
    "\n",
    "# # Mean percentile ranking of all three models\n",
    "# user_pPui['Rui'] = user_pPui.merge(valid[valid.user_idx == user], how='left', on='item_idx')['purchases']\n",
    "# user_pPui['Rui_rank_pct_fac'] = user_pPui['Rui'] * user_pPui['rank_pct_fac']\n",
    "# user_pPui['Rui_rank_pct_pop'] = user_pPui['Rui'] * user_pPui['rank_pct_pop']\n",
    "# user_pPui['Rui_rank_pct_knn'] = user_pPui['Rui'] * user_pPui['rank_pct_knn']\n",
    "# Rui_rank_pct_fac += user_pPui.Rui_rank_pct_fac.sum()\n",
    "# Rui_rank_pct_pop += user_pPui.Rui_rank_pct_pop.sum()\n",
    "# Rui_rank_pct_knn += user_pPui.Rui_rank_pct_knn.sum()\n",
    "# Rui += user_pPui.Rui.sum()    \n",
    "# Rui_count += user_pPui.Rui.count()\n",
    "# Rui_count_in_topN_pPui_fac += (user_pPui[~user_pPui.Rui.isnull()].rank_fac < N).sum()\n",
    "# Rui_count_in_topN_pPui_knn += (user_pPui[~user_pPui.Rui.isnull()].rank_knn < N).sum()\n",
    "# Rui_count_in_topN_pPui_pop += (user_pPui[~user_pPui.Rui.isnull()].rank_pop < N).sum()\n",
    "\n",
    "# user_pPui[~user_pPui.Rui.isnull()].style\n",
    "# Rui_count_in_topN_pPui_fac, Rui_count_in_topN_pPui_pop, Rui_count_in_topN_pPui_knn, Rui_count\n",
    "\n",
    "# pPui = {}\n",
    "# Rui = 0\n",
    "# Rui_count = 0\n",
    "# Rui_rank_pct_fac = 0\n",
    "# Rui_rank_pct_pop = 0\n",
    "# Rui_rank_pct_knn = 0\n",
    "# Rui_count_in_topN_pPui_fac = 0\n",
    "# Rui_count_in_topN_pPui_pop = 0\n",
    "# Rui_count_in_topN_pPui_knn = 0"
   ]
  },
  {
   "cell_type": "code",
   "execution_count": null,
   "id": "celtic-laundry",
   "metadata": {
    "jupyter": {
     "source_hidden": true
    },
    "slideshow": {
     "slide_type": "skip"
    },
    "tags": []
   },
   "outputs": [],
   "source": [
    "# from scipy.sparse import csc_matrix, coo_matrix\n",
    "# from scipy.sparse.linalg import svds, eigs\n",
    "\n",
    "# A = np.array([[1, 0, 0], [5, 0, 2], [0, -1, 0], [0, 0, 3]], dtype=float)\n",
    "# print('A:\\n', A)\n",
    "# u, s, vt = svds(A, k=2, which='LM')\n",
    "# u, s, vt\n",
    "\n",
    "# u*np.sqrt(s) @ (vt * np.sqrt(s)[:, np.newaxis])\n",
    "# u @ np.diag(s) @ vt\n",
    "\n",
    "# A = np.array([[1, 0, 0], [5, 0, 2], [0, -1, 0], [0, 0, 3]], dtype=float)\n",
    "# U, S, VT = np.linalg.svd(A)\n",
    "# U, S, VT\n",
    "\n",
    "# norms = np.linalg.norm(u, axis=-1)\n",
    "# u, norms[:, np.newaxis]\n",
    "\n",
    "# X = np.array([[4, 1, 3], [8, 3, -2]], dtype=float)\n",
    "# artist_factors, _, user_factors = np.linalg.svd(X)\n",
    "# artist_factors[:, :1]\n",
    "# user_factors\n",
    "\n",
    "# user = valid_users.values[6]\n",
    "# user_Pui = pd.DataFrame(valid_Pui[user], columns=['item_idx', 'Pui'])\n",
    "# user_Pui['rank'] = user_Pui['Pui'].rank(method='average', ascending=False).astype(int)\n",
    "# user_Pui['rank_pct'] = user_Pui['Pui'].rank(method='average', ascending=False, pct=True)\n",
    "# user_Pui['user_idx'] = user\n",
    "# user_Pui['valid_Rui'] = user_Pui.merge(valid[valid.user_idx == user], how='left', on='item_idx')['purchases']\n",
    "# user_Pui['rank_pct_valid_Rui'] = user_Pui['rank_pct'] * user_Pui['valid_Rui']\n",
    "# user_Pui[~user_Pui.valid_Rui.isnull()].style.format({'rank_pct_valid_Rui': '{:,.9f}'})\n",
    "\n",
    "# a = time.time()\n",
    "# n_items = 1000 # len(train.item_idx.drop_duplicates())\n",
    "# train_Sij = np.full((n_items, n_items), None)\n",
    "# data = train[['user_idx', 'item_idx', 'purchases']]\n",
    "\n",
    "# for x, (i, j) in enumerate(combinations(range(n_items), 2)):\n",
    "#     users_i = data[data.item_idx == i]\n",
    "#     users_j = data[data.item_idx == j]\n",
    "#     users_ij = users_i.merge(users_j, how='inner', on='user_idx')\n",
    "#     users_ij['ri_rj'] = users_ij.purchases_x * users_ij.purchases_y\n",
    "#     train_Sij[i, j] = users_ij.ri_rj.sum() / (np.sqrt(sum(users_i['purchases'] ** 2)) * np.sqrt(sum(users_j['purchases'] ** 2)))\n",
    "#     if x % 1000 == 0:\n",
    "#         print(x)\n",
    "\n",
    "# print(f'Time elapsed: {time.time() - a:,.2f} seconds / {(time.time() - a)/60:,.2f} minutes.')\n",
    "\n",
    "#train_Sij[np.ix_(user_pPui.item_idx, user_Rui.item_idx)] \n",
    "\n",
    "#   pPui[user] = mod_als.recommend(user, train_Rui, N=7561, filter_already_liked_items=True)\n",
    "#     # Percentile-ranking of predicted items within the ordered list of predicted preferences Pui\n",
    "#     user_pPui = pd.DataFrame(pPui[user], columns=['item_idx', 'pPui'])\n",
    "#     user_pPui['rank_pct_fac'] = user_pPui['pPui'].rank(method='average', ascending=False, pct=True)\n",
    "    \n",
    "#     # Popularity-ranking of items (excluding already purchased items in training set)\n",
    "#     user_pPui['rank_pct_pop'] = user_pPui.merge(items_pop, how='left', on='item_idx')['rank_pct_pop']    \n",
    "#     user_pPui['Rui'] = user_pPui.merge(valid[valid.user_idx == user], how='left', on='item_idx')['purchases']\n",
    "    \n",
    "#     user_pPui['Rui_rank_pct_fac'] = user_pPui['Rui'] * user_pPui['rank_pct_fac']\n",
    "#     user_pPui['Rui_rank_pct_pop'] = user_pPui['Rui'] * user_pPui['rank_pct_pop']\n",
    "#     Rui_rank_pct_fac += user_pPui.Rui_rank_pct_fac.sum()\n",
    "#     Rui_rank_pct_pop += user_pPui.Rui_rank_pct_pop.sum()\n",
    "#     Rui += user_pPui.Rui.sum()\n",
    "\n",
    "\n",
    "# pPui[user] = model.recommend(userid=0, user_items=train_Rui, N=7561, filter_already_liked_items=True)\n",
    "# # Percentile-ranking of predicted items within the ordered list of predicted preferences Pui\n",
    "# user_pPui = pd.DataFrame(pPui[user], columns=['item_idx', 'pPui_fac'])\n",
    "# user_pPui['rank_pct_fac'] = user_pPui['pPui_fac'].rank(method='average', ascending=False, pct=True)\n",
    "# # Popularity-ranking of items \n",
    "# user_pPui['rank_pct_pop'] = user_pPui.merge(items_pop, how='left', on='item_idx')['rank_pct_pop']    \n",
    "# # Item-item neighboorhood-based ranking model \n",
    "# user_pPui['pPui_knn'] = train_Sij[np.ix_(user_pPui.item_idx, \n",
    "#                                           train[train.user_idx == user].item_idx\n",
    "#                                          )].dot(train[train.user_idx == user].purchases)\n",
    "# user_pPui['rank_pct_knn'] = user_pPui['pPui_knn'].rank(method='average', ascending=False, pct=True)\n",
    "\n",
    "# # Mean percentile ranking of all three models\n",
    "# user_pPui['Rui'] = user_pPui.merge(valid[valid.user_idx == user], how='left', on='item_idx')['purchases']\n",
    "# user_pPui['Rui_rank_pct_fac'] = user_pPui['Rui'] * user_pPui['rank_pct_fac']\n",
    "# user_pPui['Rui_rank_pct_pop'] = user_pPui['Rui'] * user_pPui['rank_pct_pop']\n",
    "# user_pPui['Rui_rank_pct_knn'] = user_pPui['Rui'] * user_pPui['rank_pct_knn']\n",
    "# Rui_rank_pct_fac += user_pPui.Rui_rank_pct_fac.sum()\n",
    "# Rui_rank_pct_pop += user_pPui.Rui_rank_pct_pop.sum()\n",
    "# Rui_rank_pct_knn += user_pPui.Rui_rank_pct_knn.sum()\n",
    "# Rui += user_pPui.Rui.sum()\n",
    "\n",
    "#             print(f'\\n')\n",
    "#             print(f'Mean Percentile Ranking [Factor]: {MPR_fac:,.4f}')\n",
    "#             print(f'Mean Percentile Ranking [Popularity]: {MPR_pop:,.4f}')\n",
    "#             print(f'Mean Percentile Ranking [Neighborhood]: {MPR_knn:,.4f}')\n",
    "#             print(f'Time elapsed: {time.time() - a:,.2f} seconds / {(time.time() - a)/60:,.2f} minutes.')\n",
    "\n",
    "# def grid_search_als_latent_factor(factors=[150], regularizations=[6000, 7000, 8000], \n",
    "#                                  iterations=20, chunk=10000, n_chunks=5):\n",
    "#     n_users = min(chunk * n_chunks, len(valid_users))\n",
    "#     row = ['users', 'factors', 'regularization', 'alpha', 'MPR [Factor]', 'MPR [Popularity]', 'MPR [Neighborhood]', 'Rui']\n",
    "#     print_log(row, header=True, spacing=20)\n",
    "        \n",
    "#     for factor in factors:\n",
    "#         for regularization in regularizations:\n",
    "#            # print(f'ALS algorithm: factors={factor}, regularization={regularization}, iterations={iterations}')\n",
    "#             mod_als = implicit.als.AlternatingLeastSquares(factors=factor, regularization=regularization, \n",
    "#                                                            iterations=iterations, random_state=1,\n",
    "#                                                            use_cg=True, use_native=True, num_threads=0)\n",
    "#             mod_als.fit(train_Ciu, show_progress=False)\n",
    "\n",
    "#             pPui = {}\n",
    "#             Rui = 0\n",
    "#             Rui_rank_pct_fac = 0\n",
    "#             Rui_rank_pct_pop = 0\n",
    "#             Rui_rank_pct_knn = 0\n",
    "\n",
    "#             # Percentile-ranking of items within the ordered list of predicted preferences Pui for three models for each user\n",
    "#             # a = time.time()\n",
    "#             for i in range(n_chunks):\n",
    "#                 print(i)\n",
    "#                 for user in valid_users[i*chunk:(i+1)*chunk]:    \n",
    "#                     pPui[user] = mod_als.recommend(userid=user, user_items=train_Rui, N=7561, filter_already_liked_items=True)\n",
    "\n",
    "#                     # Latent factor model-based ranking of predicted items \n",
    "#                     user_pPui = pd.DataFrame(pPui[user], columns=['item_idx', 'pPui_fac'])\n",
    "#                     user_pPui['rank_pct_fac'] = user_pPui['pPui_fac'].rank(method='average', ascending=False, pct=True)\n",
    "\n",
    "#                     # Popularity-based ranking\n",
    "#                     user_pPui['rank_pct_pop'] = user_pPui.merge(items_pop, how='left', on='item_idx')['rank_pct_pop']    \n",
    "\n",
    "#                     # Item-item neighboorhood-based ranking\n",
    "#                     user_pPui['pPui_knn'] = train_Sij[np.ix_(user_pPui.item_idx, \n",
    "#                                                               train[train.user_idx == user].item_idx\n",
    "#                                                              )].dot(train[train.user_idx == user].purchases)\n",
    "#                     user_pPui['rank_pct_knn'] = user_pPui['pPui_knn'].rank(method='average', ascending=False, pct=True)\n",
    "\n",
    "#                     # Mean percentile ranking of all three models\n",
    "#                     user_pPui['Rui'] = user_pPui.merge(valid[valid.user_idx == user], how='left', on='item_idx')['purchases']\n",
    "#                     user_pPui['Rui_rank_pct_fac'] = user_pPui['Rui'] * user_pPui['rank_pct_fac']\n",
    "#                     user_pPui['Rui_rank_pct_pop'] = user_pPui['Rui'] * user_pPui['rank_pct_pop']\n",
    "#                     user_pPui['Rui_rank_pct_knn'] = user_pPui['Rui'] * user_pPui['rank_pct_knn']\n",
    "#                     Rui_rank_pct_fac += user_pPui.Rui_rank_pct_fac.sum()\n",
    "#                     Rui_rank_pct_pop += user_pPui.Rui_rank_pct_pop.sum()\n",
    "#                     Rui_rank_pct_knn += user_pPui.Rui_rank_pct_knn.sum()\n",
    "#                     Rui += user_pPui.Rui.sum()    \n",
    "\n",
    "#                     pPui[user] = [i[0] for i in pPui[user][:10]]\n",
    "#                     del user_pPui\n",
    "\n",
    "#             MPR_fac = Rui_rank_pct_fac/Rui\n",
    "#             MPR_pop = Rui_rank_pct_pop/Rui\n",
    "#             MPR_knn = Rui_rank_pct_knn/Rui\n",
    "#             row = [n_users, factor, regularization, alpha, MPR_fac, MPR_pop, MPR_knn, int(Rui)]\n",
    "#             print_log(row, header=False, spacing=20)\n",
    "#     return pPui       \n",
    "\n",
    "# mod_als = implicit.als.AlternatingLeastSquares(factors=150, regularization=2100, \n",
    "#                                                iterations=20, random_state=1,\n",
    "#                                                use_cg=True, use_native=True, num_threads=0,\n",
    "#                                                use_gpu=False)\n",
    "# mod_als.fit(train_Ciu, show_progress=False)\n",
    "\n",
    "# user = 10  # [10, 11, 24, 28, 36, 38, 51, 58, 66, 70]\n",
    "# N = 5\n",
    "# pPui = {}\n",
    "# Rui = 0\n",
    "# Rui_count = 0\n",
    "# Rui_count_in_topN_pPui_fac = 0\n",
    "# Rui_count_in_topN_pPui_pop = 0\n",
    "# Rui_count_in_topN_pPui_knn = 0\n",
    "# Rui_rank_pct_fac = 0\n",
    "# Rui_rank_pct_pop = 0\n",
    "# Rui_rank_pct_knn = 0\n",
    "\n",
    "# pPui[user] = mod_als.recommend(userid=user, user_items=train_Rui, N=7561, filter_already_liked_items=True)\n",
    "\n",
    "# # Latent factor model-based ranking of predicted items \n",
    "# user_pPui = pd.DataFrame(pPui[user], columns=['item_idx', 'pPui_fac'])\n",
    "# user_pPui['rank_pct_fac'] = user_pPui['pPui_fac'].rank(method='average', ascending=False, pct=True)\n",
    "# user_pPui['rank_fac'] = user_pPui['pPui_fac'].rank(method='average', ascending=False).astype(int)\n",
    "\n",
    "# # Popularity-based ranking\n",
    "# user_pPui['rank_pct_pop'] = user_pPui.merge(items_pop, how='left', on='item_idx')['rank_pct_pop']   \n",
    "# user_pPui['rank_pop'] = user_pPui.merge(items_pop, how='left', on='item_idx')['rank_pop']  \n",
    "\n",
    "# # Item-item neighboorhood-based ranking\n",
    "# user_pPui['pPui_knn'] = train_Sij[np.ix_(user_pPui.item_idx, \n",
    "#                                           train[train.user_idx == user].item_idx\n",
    "#                                          )].dot(train[train.user_idx == user].purchases)\n",
    "# user_pPui['rank_pct_knn'] = user_pPui['pPui_knn'].rank(method='average', ascending=False, pct=True)\n",
    "# user_pPui['rank_knn'] = user_pPui['pPui_knn'].rank(method='average', ascending=False).astype(int)\n",
    "\n",
    "# # Mean percentile ranking of all three models\n",
    "# user_pPui['Rui'] = user_pPui.merge(valid[valid.user_idx == user], how='left', on='item_idx')['purchases']\n",
    "# user_pPui['Rui_rank_pct_fac'] = user_pPui['Rui'] * user_pPui['rank_pct_fac']\n",
    "# user_pPui['Rui_rank_pct_pop'] = user_pPui['Rui'] * user_pPui['rank_pct_pop']\n",
    "# user_pPui['Rui_rank_pct_knn'] = user_pPui['Rui'] * user_pPui['rank_pct_knn']\n",
    "# Rui_rank_pct_fac += user_pPui.Rui_rank_pct_fac.sum()\n",
    "# Rui_rank_pct_pop += user_pPui.Rui_rank_pct_pop.sum()\n",
    "# Rui_rank_pct_knn += user_pPui.Rui_rank_pct_knn.sum()\n",
    "# Rui += user_pPui.Rui.sum()    \n",
    "# Rui_count += user_pPui.Rui.count()\n",
    "# Rui_count_in_topN_pPui_fac += (user_pPui[~user_pPui.Rui.isnull()].rank_fac < N).sum()\n",
    "# Rui_count_in_topN_pPui_knn += (user_pPui[~user_pPui.Rui.isnull()].rank_knn < N).sum()\n",
    "# Rui_count_in_topN_pPui_pop += (user_pPui[~user_pPui.Rui.isnull()].rank_pop < N).sum()\n",
    "\n",
    "# user_pPui[~user_pPui.Rui.isnull()].style\n",
    "# Rui_count_in_topN_pPui_fac, Rui_count_in_topN_pPui_pop, Rui_count_in_topN_pPui_knn, Rui_count\n",
    "\n",
    "# pPui = {}\n",
    "# Rui = 0\n",
    "# Rui_count = 0\n",
    "# Rui_rank_pct_fac = 0\n",
    "# Rui_rank_pct_pop = 0\n",
    "# Rui_rank_pct_knn = 0\n",
    "# Rui_count_in_topN_pPui_fac = 0\n",
    "# Rui_count_in_topN_pPui_pop = 0\n",
    "# Rui_count_in_topN_pPui_knn = 0\n",
    "\n",
    "# train_Rui = csr_matrix((train.purchases, (train.user_idx, train.item_idx)))\n",
    "# score, top_contributions, _ = mod_als.explain(userid=15, user_items=train_Rui, itemid=2488, N=3)\n",
    "# score, top_contributions\n",
    "\n",
    "# pPui, metrics = predict_als_latent_factor(mod_als=mod_als, train=train, test=test[test.user_idx==15], N=3)\n",
    "# test_scored_15 = calc_test_scored(train=train, test=test[test.user_idx==15], pPui=pPui, idx_to_item=idx_to_item, N=3, K=3, mod_als=mod_als)\n",
    "# test_scored_15"
   ]
  }
 ],
 "metadata": {
  "kernelspec": {
   "display_name": "Python 3",
   "language": "python",
   "name": "python3"
  },
  "language_info": {
   "codemirror_mode": {
    "name": "ipython",
    "version": 3
   },
   "file_extension": ".py",
   "mimetype": "text/x-python",
   "name": "python",
   "nbconvert_exporter": "python",
   "pygments_lexer": "ipython3",
   "version": "3.8.5"
  }
 },
 "nbformat": 4,
 "nbformat_minor": 5
}
